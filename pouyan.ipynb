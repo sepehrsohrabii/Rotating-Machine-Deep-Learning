{
 "cells": [
  {
   "cell_type": "code",
   "execution_count": 1,
   "id": "2a72220e-6be1-43bd-bc16-a8c0a8733d4a",
   "metadata": {
    "id": "2a72220e-6be1-43bd-bc16-a8c0a8733d4a"
   },
   "outputs": [],
   "source": [
    "import numpy as np\n",
    "import matplotlib.pyplot as plt\n",
    "import scipy.io \n",
    "import numpy as np\n",
    "import pandas as pd\n",
    "from scipy.signal import butter, lfilter\n",
    "from scipy.fft import fft\n",
    "import random\n",
    "from sklearn import svm\n",
    "from sklearn.svm import SVC\n",
    "from sklearn.metrics import confusion_matrix\n",
    "from sklearn.neighbors import KNeighborsClassifier\n",
    "from sklearn import tree\n",
    "from sklearn.tree import DecisionTreeClassifier\n",
    "from sklearn.ensemble import RandomForestClassifier\n",
    "\n"
   ]
  },
  {
   "cell_type": "code",
   "execution_count": 2,
   "id": "qvblyTa8g-X7",
   "metadata": {
    "colab": {
     "base_uri": "https://localhost:8080/"
    },
    "id": "qvblyTa8g-X7",
    "outputId": "24f1c0d1-46ff-4e37-ad4f-84bf04b47699"
   },
   "outputs": [],
   "source": [
    "\n",
    "from scipy.io import loadmat\n",
    "faultI10=scipy.io.loadmat('/home/sepehr/Desktop/Rotating Machine - Data/ZData_Fault_Rotating_Machine/unbalanced fault/without alphabet/Unbalanced.mat/Acquisition_un_1_10hz.mat')\n",
    "faultI30=scipy.io.loadmat('/home/sepehr/Desktop/Rotating Machine - Data/ZData_Fault_Rotating_Machine/unbalanced fault/without alphabet/Unbalanced.mat/Acquisition_un_1_30hz.mat')\n",
    "faultII10=scipy.io.loadmat('/home/sepehr/Desktop/Rotating Machine - Data/ZData_Fault_Rotating_Machine/unbalanced fault/without alphabet/Unbalanced.mat/Acquisition_un_2_10hz.mat')\n",
    "faultII30=scipy.io.loadmat('/home/sepehr/Desktop/Rotating Machine - Data/ZData_Fault_Rotating_Machine/unbalanced fault/without alphabet/Unbalanced.mat/Acquisition_un_2_30hz.mat')\n",
    "faultIII10=scipy.io.loadmat('/home/sepehr/Desktop/Rotating Machine - Data/ZData_Fault_Rotating_Machine/unbalanced fault/without alphabet/Unbalanced.mat/Acquisition_un_3_10hz.mat')\n",
    "faultIII30=scipy.io.loadmat('/home/sepehr/Desktop/Rotating Machine - Data/ZData_Fault_Rotating_Machine/unbalanced fault/without alphabet/Unbalanced.mat/Acquisition_un_3_30hz.mat')\n",
    "faultIV10=scipy.io.loadmat('/home/sepehr/Desktop/Rotating Machine - Data/ZData_Fault_Rotating_Machine/unbalanced fault/without alphabet/Unbalanced.mat/Acquisition_un_4_10hz.mat')\n",
    "faultIV30=scipy.io.loadmat('/home/sepehr/Desktop/Rotating Machine - Data/ZData_Fault_Rotating_Machine/unbalanced fault/without alphabet/Unbalanced.mat/Acquisition_un_4_30hz.mat')\n",
    "faultV10=scipy.io.loadmat('/home/sepehr/Desktop/Rotating Machine - Data/ZData_Fault_Rotating_Machine/unbalanced fault/without alphabet/Unbalanced.mat/Acquisition_un_5_10hz.mat')\n",
    "faultV30=scipy.io.loadmat('/home/sepehr/Desktop/Rotating Machine - Data/ZData_Fault_Rotating_Machine/unbalanced fault/without alphabet/Unbalanced.mat/Acquisition_un_5_30hz.mat')\n",
    "\n"
   ]
  },
  {
   "cell_type": "code",
   "execution_count": 3,
   "id": "0m2Uist6LyMj",
   "metadata": {
    "id": "0m2Uist6LyMj"
   },
   "outputs": [],
   "source": [
    "sigII30=faultII30['Acquisition_un_2_30hz']\n",
    "sigII10=faultII10['Acquisition_un_2_10hz']\n",
    "del faultII30,faultII10\n",
    "sigI30=faultI30['Acquisition_un_1_30hz']\n",
    "sigI10=faultI10['Acquisition_un_1_10hz']\n",
    "del faultI30,faultI10\n",
    "sigIII10=faultIII10['Acquisition_un_3_10hz']\n",
    "sigIII30=faultIII30['Acquisition_un_3_30hz']\n",
    "del faultIII10,faultIII30\n",
    "sigIV10=faultIV10['Acquisition_un_4_10hz']\n",
    "sigIV30=faultIV30['Acquisition_un_4_30hz']\n",
    "del faultIV10,faultIV30\n",
    "sigV10=faultV10['Acquisition_un_5_10hz']\n",
    "sigV30=faultV30['Acquisition_un_5_30hz']\n",
    "del faultV10,faultV30\n",
    "# sigVI10=faultVI10['Acquisition_un_6_10hz']\n",
    "# sigVI30=faultVI30['Acquisition_un_6_30hz']\n",
    "#  del faultVI10,faultVI30"
   ]
  },
  {
   "cell_type": "code",
   "execution_count": 4,
   "id": "8BhBzYin7SFO",
   "metadata": {
    "id": "8BhBzYin7SFO"
   },
   "outputs": [],
   "source": [
    "\n",
    "def sliding_window(data, window_size, stride, training_size):\n",
    "    \"\"\"\n",
    "    Applies a sliding window to the given data with the specified window size\n",
    "    and stride length. Padding is added at the beginning and end of the data to\n",
    "    ensure all samples are included in windows.\n",
    "    \"\"\"\n",
    "    num_padding = window_size - stride\n",
    "    data_padded = np.pad(data, ((num_padding, num_padding), (0, 0)), 'constant')\n",
    "    window_data = []\n",
    "    for i in range(0, len(data_padded) - window_size + 1, stride):\n",
    "        window = data_padded[i:i+window_size, :]\n",
    "        window_data.append(window)\n",
    "    window_data = np.array(window_data)\n",
    "    window_data = window_data[:training_size, :, :]\n",
    "    window_data = np.transpose(window_data, (0, 2, 1))\n",
    "    return window_data"
   ]
  },
  {
   "cell_type": "code",
   "execution_count": 5,
   "id": "cWxOnPFS7URd",
   "metadata": {
    "id": "cWxOnPFS7URd"
   },
   "outputs": [],
   "source": [
    "windowsize=1500\n",
    "stride=1400"
   ]
  },
  {
   "cell_type": "code",
   "execution_count": 6,
   "id": "zAVETMOk7XKF",
   "metadata": {
    "id": "zAVETMOk7XKF"
   },
   "outputs": [],
   "source": [
    "sigtI10hz=sliding_window(sigI10,windowsize,stride,40000)[:,1:13,:]\n",
    "sigtI30hz=sliding_window(sigI30,windowsize,stride,40000)[:,1:13,:]\n",
    "sigtII10hz=sliding_window(sigII10,windowsize,stride,40000)[:,1:13,:]\n",
    "sigtII30hz=sliding_window(sigII30,windowsize,stride,40000)[:,1:13,:]\n",
    "del sigI10,sigI30,sigII10,sigII30\n",
    "sigtIII30hz=sliding_window(sigIII30,windowsize,stride,40000)[:,1:13,:]\n",
    "sigtIII10hz=sliding_window(sigIII10,windowsize,stride,40000)[:,1:13,:]\n",
    "sigtIV30hz=sliding_window(sigIV30,windowsize,stride,40000)[:,1:13,:]\n",
    "sigtIV10hz=sliding_window(sigIV10,windowsize,stride,40000)[:,1:13,:]\n",
    "del sigIII30,sigIII10,sigIV30,sigIV10\n",
    "sigtV30hz=sliding_window(sigV30,windowsize,stride,40000)[:,1:13,:]\n",
    "sigtV10hz=sliding_window(sigV10,windowsize,stride,40000)[:,1:13,:]\n",
    "# sigtVI30hz=sliding_window(sigVI30,windowsize,stride,40000)\n",
    "# sigtVI10hz=sliding_window(sigVI10,windowsize,stride,40000)\n",
    "# del sigV30,sigV10,sigVI30,sigVI10"
   ]
  },
  {
   "cell_type": "code",
   "execution_count": 7,
   "id": "eztt9Ct5MMrb",
   "metadata": {
    "id": "eztt9Ct5MMrb"
   },
   "outputs": [],
   "source": [
    "datalable1=np.concatenate([sigtI10hz,sigtI30hz],axis=-1)\n",
    "\n",
    "datalable2=np.concatenate([sigtII10hz,sigtII30hz],axis=-1)\n",
    "\n",
    "datalable3=np.concatenate([sigtIII10hz,sigtIII30hz],axis=-1)\n",
    "\n",
    "datalable4=np.concatenate([sigtIV10hz,sigtIV30hz],axis=-1)\n",
    "\n",
    "datalabele5=np.concatenate([sigtV10hz,sigtV30hz],axis=-1)\n",
    "\n",
    "# datalabele6=np.concatenate([sigtBI10,sigtBI30],axis=-1)\n",
    "\n",
    "# datalabele7=np.concatenate([sigtBII10,sigtBII30],axis=-1)"
   ]
  },
  {
   "cell_type": "code",
   "execution_count": 8,
   "id": "XfUB8VSqMT97",
   "metadata": {
    "id": "XfUB8VSqMT97"
   },
   "outputs": [],
   "source": [
    "labels=np.concatenate((np.ones(np.shape(datalable1)[0]),np.zeros(np.shape(datalable1)[0]),np.ones(np.shape(datalable1)[0])*4,np.ones(np.shape(datalable1)[0])*2,np.ones(np.shape(datalable1)[0])*3),axis=0)\n",
    "dataall=np.concatenate([datalable1,datalable2,datalable3,datalable4,datalabele5],axis=0)"
   ]
  },
  {
   "cell_type": "code",
   "execution_count": 9,
   "id": "l0TCUypy5LqU",
   "metadata": {
    "colab": {
     "base_uri": "https://localhost:8080/"
    },
    "id": "l0TCUypy5LqU",
    "outputId": "d3660a19-98de-4b1f-870e-4a0e6f9ac0d8"
   },
   "outputs": [
    {
     "data": {
      "text/plain": [
       "(2150,)"
      ]
     },
     "execution_count": 9,
     "metadata": {},
     "output_type": "execute_result"
    }
   ],
   "source": [
    "np.shape(labels)"
   ]
  },
  {
   "cell_type": "code",
   "execution_count": 10,
   "id": "k9RPIXUL0ab-",
   "metadata": {
    "id": "k9RPIXUL0ab-"
   },
   "outputs": [],
   "source": [
    "indices = np.random.permutation(dataall.shape[0])\n",
    "\n",
    "# Use the shuffled indices to shuffle both data and labels\n",
    "shuffled_data = dataall[indices]\n",
    "shuffled_labels = labels[indices]\n",
    "dataall= shuffled_data\n",
    "labels=shuffled_labels"
   ]
  },
  {
   "cell_type": "code",
   "execution_count": 11,
   "id": "PEiUiakUTFoV",
   "metadata": {
    "id": "PEiUiakUTFoV"
   },
   "outputs": [
    {
     "data": {
      "text/plain": [
       "(2150, 12, 3000)"
      ]
     },
     "execution_count": 11,
     "metadata": {},
     "output_type": "execute_result"
    }
   ],
   "source": [
    "np.shape(dataall)"
   ]
  },
  {
   "cell_type": "code",
   "execution_count": 12,
   "id": "IFFKaa2-tS8U",
   "metadata": {
    "id": "IFFKaa2-tS8U"
   },
   "outputs": [
    {
     "name": "stderr",
     "output_type": "stream",
     "text": [
      "2023-05-03 20:37:42.744988: I tensorflow/tsl/cuda/cudart_stub.cc:28] Could not find cuda drivers on your machine, GPU will not be used.\n",
      "2023-05-03 20:37:42.893279: I tensorflow/tsl/cuda/cudart_stub.cc:28] Could not find cuda drivers on your machine, GPU will not be used.\n",
      "2023-05-03 20:37:42.894188: I tensorflow/core/platform/cpu_feature_guard.cc:182] This TensorFlow binary is optimized to use available CPU instructions in performance-critical operations.\n",
      "To enable the following instructions: AVX2 FMA, in other operations, rebuild TensorFlow with the appropriate compiler flags.\n",
      "2023-05-03 20:37:43.900004: W tensorflow/compiler/tf2tensorrt/utils/py_utils.cc:38] TF-TRT Warning: Could not find TensorRT\n"
     ]
    }
   ],
   "source": [
    "import numpy as np\n",
    "from sklearn.model_selection import train_test_split\n",
    "from tensorflow.keras.models import Sequential\n",
    "from tensorflow.keras.layers import DepthwiseConv2D, Flatten, Dense, Dropout\n",
    "\n",
    "# reshape the data to have 4 dimensions\n",
    "\n",
    "data = dataall.reshape(dataall.shape[0], dataall.shape[1], dataall.shape[2], 1)\n",
    "\n",
    "# create labels\n",
    "\n",
    "\n",
    "# split the data into training and testing sets\n",
    "\n",
    "\n"
   ]
  },
  {
   "cell_type": "code",
   "execution_count": 13,
   "id": "z7rsrhWPSusl",
   "metadata": {
    "colab": {
     "base_uri": "https://localhost:8080/"
    },
    "id": "z7rsrhWPSusl",
    "outputId": "190430fa-6ca9-4c91-e983-74ced0ffd5e9"
   },
   "outputs": [
    {
     "data": {
      "text/plain": [
       "(2150, 12, 3000, 1)"
      ]
     },
     "execution_count": 13,
     "metadata": {},
     "output_type": "execute_result"
    }
   ],
   "source": [
    "np.shape(data)"
   ]
  },
  {
   "cell_type": "code",
   "execution_count": 14,
   "id": "YRCI89bASpG9",
   "metadata": {
    "colab": {
     "base_uri": "https://localhost:8080/",
     "height": 678
    },
    "id": "YRCI89bASpG9",
    "outputId": "19757d3f-0272-407d-8f42-2230d7d044b5"
   },
   "outputs": [
    {
     "name": "stderr",
     "output_type": "stream",
     "text": [
      "2023-05-03 20:37:45.263791: I tensorflow/compiler/xla/stream_executor/cuda/cuda_gpu_executor.cc:996] successful NUMA node read from SysFS had negative value (-1), but there must be at least one NUMA node, so returning NUMA node zero. See more at https://github.com/torvalds/linux/blob/v6.0/Documentation/ABI/testing/sysfs-bus-pci#L344-L355\n",
      "2023-05-03 20:37:45.264618: W tensorflow/core/common_runtime/gpu/gpu_device.cc:1956] Cannot dlopen some GPU libraries. Please make sure the missing libraries mentioned above are installed properly if you would like to use GPU. Follow the guide at https://www.tensorflow.org/install/gpu for how to download and setup the required libraries for your platform.\n",
      "Skipping registering GPU devices...\n"
     ]
    },
    {
     "name": "stdout",
     "output_type": "stream",
     "text": [
      "Epoch 1/50\n"
     ]
    },
    {
     "name": "stderr",
     "output_type": "stream",
     "text": [
      "2023-05-03 20:37:45.624793: W tensorflow/tsl/framework/cpu_allocator_impl.cc:83] Allocation of 247680000 exceeds 10% of free system memory.\n"
     ]
    },
    {
     "name": "stdout",
     "output_type": "stream",
     "text": [
      "54/54 [==============================] - 9s 161ms/step - loss: 1.6101 - accuracy: 0.2070 - val_loss: 1.6096 - val_accuracy: 0.1814\n",
      "Epoch 2/50\n",
      "54/54 [==============================] - 8s 148ms/step - loss: 1.5771 - accuracy: 0.3570 - val_loss: 1.6100 - val_accuracy: 0.2023\n",
      "Epoch 3/50\n",
      "54/54 [==============================] - 8s 146ms/step - loss: 1.5283 - accuracy: 0.3703 - val_loss: 1.6027 - val_accuracy: 0.4116\n",
      "Epoch 4/50\n",
      "54/54 [==============================] - 8s 146ms/step - loss: 1.3917 - accuracy: 0.4064 - val_loss: 1.5158 - val_accuracy: 0.2047\n",
      "Epoch 5/50\n",
      "54/54 [==============================] - 8s 148ms/step - loss: 0.9634 - accuracy: 0.6570 - val_loss: 1.2099 - val_accuracy: 0.6535\n",
      "Epoch 6/50\n",
      "54/54 [==============================] - 8s 147ms/step - loss: 0.5050 - accuracy: 0.8116 - val_loss: 0.9691 - val_accuracy: 0.6488\n",
      "Epoch 7/50\n",
      "54/54 [==============================] - 8s 148ms/step - loss: 0.3976 - accuracy: 0.8227 - val_loss: 0.7732 - val_accuracy: 0.6605\n",
      "Epoch 8/50\n",
      "54/54 [==============================] - 8s 151ms/step - loss: 0.3421 - accuracy: 0.8442 - val_loss: 0.9378 - val_accuracy: 0.6488\n",
      "Epoch 9/50\n",
      "54/54 [==============================] - 8s 149ms/step - loss: 0.3113 - accuracy: 0.8390 - val_loss: 0.4989 - val_accuracy: 0.7116\n",
      "Epoch 10/50\n",
      "54/54 [==============================] - 8s 151ms/step - loss: 0.2943 - accuracy: 0.8424 - val_loss: 0.6465 - val_accuracy: 0.6535\n",
      "Epoch 11/50\n",
      "54/54 [==============================] - 9s 171ms/step - loss: 0.2699 - accuracy: 0.8657 - val_loss: 0.6466 - val_accuracy: 0.6512\n",
      "Epoch 12/50\n",
      "54/54 [==============================] - 9s 163ms/step - loss: 0.2753 - accuracy: 0.8564 - val_loss: 0.4558 - val_accuracy: 0.7535\n",
      "Epoch 13/50\n",
      "54/54 [==============================] - 9s 158ms/step - loss: 0.2775 - accuracy: 0.8581 - val_loss: 0.5232 - val_accuracy: 0.7163\n",
      "Epoch 14/50\n",
      "54/54 [==============================] - 9s 169ms/step - loss: 0.2766 - accuracy: 0.8587 - val_loss: 0.2953 - val_accuracy: 0.8419\n",
      "Epoch 15/50\n",
      "54/54 [==============================] - 9s 161ms/step - loss: 0.2808 - accuracy: 0.8436 - val_loss: 0.3595 - val_accuracy: 0.8558\n",
      "Epoch 16/50\n",
      "54/54 [==============================] - 8s 152ms/step - loss: 0.2266 - accuracy: 0.8971 - val_loss: 0.2682 - val_accuracy: 0.8884\n",
      "Epoch 17/50\n",
      "54/54 [==============================] - 9s 158ms/step - loss: 0.2158 - accuracy: 0.9017 - val_loss: 0.2944 - val_accuracy: 0.8349\n",
      "Epoch 18/50\n",
      "54/54 [==============================] - 9s 164ms/step - loss: 0.2195 - accuracy: 0.8971 - val_loss: 0.2420 - val_accuracy: 0.8907\n",
      "Epoch 19/50\n",
      "54/54 [==============================] - 8s 149ms/step - loss: 0.1852 - accuracy: 0.9244 - val_loss: 0.2160 - val_accuracy: 0.8721\n",
      "Epoch 20/50\n",
      "54/54 [==============================] - 9s 161ms/step - loss: 0.1816 - accuracy: 0.9267 - val_loss: 0.2179 - val_accuracy: 0.8953\n",
      "Epoch 21/50\n",
      "54/54 [==============================] - 9s 174ms/step - loss: 0.4072 - accuracy: 0.8459 - val_loss: 0.6340 - val_accuracy: 0.6581\n",
      "Epoch 22/50\n",
      "54/54 [==============================] - 9s 168ms/step - loss: 0.2297 - accuracy: 0.8924 - val_loss: 0.3185 - val_accuracy: 0.8535\n",
      "Epoch 23/50\n",
      "54/54 [==============================] - 9s 161ms/step - loss: 0.1998 - accuracy: 0.9058 - val_loss: 0.2411 - val_accuracy: 0.8488\n",
      "Epoch 24/50\n",
      "54/54 [==============================] - 8s 155ms/step - loss: 0.1761 - accuracy: 0.9291 - val_loss: 0.2200 - val_accuracy: 0.8837\n",
      "Epoch 25/50\n",
      "54/54 [==============================] - 9s 164ms/step - loss: 0.1952 - accuracy: 0.9070 - val_loss: 0.2370 - val_accuracy: 0.8977\n",
      "Epoch 26/50\n",
      "54/54 [==============================] - 9s 161ms/step - loss: 0.1809 - accuracy: 0.9186 - val_loss: 0.2633 - val_accuracy: 0.8628\n",
      "Epoch 27/50\n",
      "54/54 [==============================] - 8s 155ms/step - loss: 0.1802 - accuracy: 0.9174 - val_loss: 0.2660 - val_accuracy: 0.8674\n",
      "Epoch 28/50\n",
      "54/54 [==============================] - 8s 151ms/step - loss: 0.1493 - accuracy: 0.9436 - val_loss: 0.2180 - val_accuracy: 0.9023\n",
      "Epoch 29/50\n",
      "54/54 [==============================] - 8s 153ms/step - loss: 0.1646 - accuracy: 0.9198 - val_loss: 0.2295 - val_accuracy: 0.9023\n",
      "Epoch 30/50\n",
      "54/54 [==============================] - 8s 157ms/step - loss: 0.1309 - accuracy: 0.9605 - val_loss: 0.2607 - val_accuracy: 0.8256\n",
      "Epoch 31/50\n",
      "54/54 [==============================] - 9s 160ms/step - loss: 0.1382 - accuracy: 0.9471 - val_loss: 0.1731 - val_accuracy: 0.9395\n",
      "Epoch 32/50\n",
      "54/54 [==============================] - 9s 169ms/step - loss: 0.1158 - accuracy: 0.9610 - val_loss: 0.1756 - val_accuracy: 0.9093\n",
      "Epoch 33/50\n",
      "54/54 [==============================] - 9s 158ms/step - loss: 0.1127 - accuracy: 0.9599 - val_loss: 0.1536 - val_accuracy: 0.9535\n",
      "Epoch 34/50\n",
      "54/54 [==============================] - 9s 165ms/step - loss: 0.1064 - accuracy: 0.9680 - val_loss: 0.1515 - val_accuracy: 0.9419\n",
      "Epoch 35/50\n",
      "54/54 [==============================] - 9s 159ms/step - loss: 0.0994 - accuracy: 0.9709 - val_loss: 0.1421 - val_accuracy: 0.9442\n",
      "Epoch 36/50\n",
      "54/54 [==============================] - 8s 155ms/step - loss: 0.0880 - accuracy: 0.9779 - val_loss: 0.1294 - val_accuracy: 0.9651\n",
      "Epoch 37/50\n",
      "54/54 [==============================] - 9s 159ms/step - loss: 0.0981 - accuracy: 0.9605 - val_loss: 0.1898 - val_accuracy: 0.8837\n",
      "Epoch 38/50\n",
      "54/54 [==============================] - 9s 159ms/step - loss: 0.1096 - accuracy: 0.9570 - val_loss: 0.2140 - val_accuracy: 0.8767\n",
      "Epoch 39/50\n",
      "54/54 [==============================] - 9s 165ms/step - loss: 0.0809 - accuracy: 0.9779 - val_loss: 0.1472 - val_accuracy: 0.9465\n",
      "Epoch 40/50\n",
      "54/54 [==============================] - 10s 177ms/step - loss: 0.0767 - accuracy: 0.9779 - val_loss: 0.1103 - val_accuracy: 0.9698\n",
      "Epoch 41/50\n",
      "54/54 [==============================] - 10s 184ms/step - loss: 0.0786 - accuracy: 0.9767 - val_loss: 0.1201 - val_accuracy: 0.9674\n",
      "Epoch 42/50\n",
      "54/54 [==============================] - 8s 149ms/step - loss: 0.0751 - accuracy: 0.9797 - val_loss: 0.1362 - val_accuracy: 0.9721\n",
      "Epoch 43/50\n",
      "54/54 [==============================] - 8s 143ms/step - loss: 0.0636 - accuracy: 0.9837 - val_loss: 0.1140 - val_accuracy: 0.9744\n",
      "Epoch 44/50\n",
      "54/54 [==============================] - 9s 161ms/step - loss: 0.0902 - accuracy: 0.9645 - val_loss: 0.1302 - val_accuracy: 0.9721\n",
      "Epoch 45/50\n",
      "54/54 [==============================] - 8s 154ms/step - loss: 0.0562 - accuracy: 0.9872 - val_loss: 0.1092 - val_accuracy: 0.9674\n",
      "Epoch 46/50\n",
      "54/54 [==============================] - 8s 152ms/step - loss: 0.0484 - accuracy: 0.9878 - val_loss: 0.0998 - val_accuracy: 0.9674\n",
      "Epoch 47/50\n",
      "54/54 [==============================] - 8s 152ms/step - loss: 0.0514 - accuracy: 0.9890 - val_loss: 0.1954 - val_accuracy: 0.8860\n",
      "Epoch 48/50\n",
      "54/54 [==============================] - 9s 162ms/step - loss: 0.0535 - accuracy: 0.9837 - val_loss: 0.1028 - val_accuracy: 0.9698\n",
      "Epoch 49/50\n",
      "54/54 [==============================] - 9s 164ms/step - loss: 0.0765 - accuracy: 0.9715 - val_loss: 0.2161 - val_accuracy: 0.9186\n",
      "Epoch 50/50\n",
      "54/54 [==============================] - 8s 146ms/step - loss: 0.0441 - accuracy: 0.9930 - val_loss: 0.1148 - val_accuracy: 0.9767\n"
     ]
    },
    {
     "data": {
      "text/plain": [
       "<keras.callbacks.History at 0x7fe8b57b2610>"
      ]
     },
     "execution_count": 14,
     "metadata": {},
     "output_type": "execute_result"
    }
   ],
   "source": [
    "train_data, test_data, train_labels, test_labels = train_test_split(data, labels, test_size=0.2, random_state=42)\n",
    "\n",
    "#create the model\n",
    "# model = Sequential()\n",
    "# model.add(DepthwiseConv2D(kernel_size=(3, 3), strides=(1, 1), depth_multiplier=1, padding='same', activation='relu', input_shape=(12, 3000, 1)))\n",
    "# model.add(DepthwiseConv2D(kernel_size=(3, 3), strides=(1, 1), depth_multiplier=1, padding='same', activation='relu', input_shape=(12, 3000, 1)))\n",
    "# model.add(Flatten())\n",
    "# model.add(Dense(5, activation='softmax'))\n",
    "model = Sequential()\n",
    "model.add(DepthwiseConv2D(kernel_size=(3, 3), strides=(1, 1), depth_multiplier=1, padding='same', activation='relu', input_shape=(12, 3000, 1)))\n",
    "model.add(Dropout(0.2))\n",
    "model.add(DepthwiseConv2D(kernel_size=(3, 3), strides=(1, 1), depth_multiplier=1, padding='same', activation='relu'))\n",
    "model.add(Dropout(0.2))\n",
    "model.add(DepthwiseConv2D(kernel_size=(3, 3), strides=(1, 1), depth_multiplier=1, padding='same', activation='relu'))\n",
    "model.add(Flatten())\n",
    "model.add(Dense(5, activation='softmax'))\n",
    "\n",
    "\n",
    "# compile the model\n",
    "model.compile(loss='sparse_categorical_crossentropy', optimizer='adam', metrics=['accuracy'])\n",
    "\n",
    "# train the model\n",
    "model.fit(train_data, train_labels, epochs=50, batch_size=32, validation_data=(test_data, test_labels))\n"
   ]
  }
 ],
 "metadata": {
  "colab": {
   "provenance": []
  },
  "kernelspec": {
   "display_name": "Python 3 (ipykernel)",
   "language": "python",
   "name": "python3"
  },
  "language_info": {
   "codemirror_mode": {
    "name": "ipython",
    "version": 3
   },
   "file_extension": ".py",
   "mimetype": "text/x-python",
   "name": "python",
   "nbconvert_exporter": "python",
   "pygments_lexer": "ipython3",
   "version": "3.11.0"
  }
 },
 "nbformat": 4,
 "nbformat_minor": 5
}
