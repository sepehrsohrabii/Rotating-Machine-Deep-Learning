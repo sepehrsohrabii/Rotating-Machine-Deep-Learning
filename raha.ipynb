{
 "cells": [
  {
   "cell_type": "code",
   "execution_count": 24,
   "id": "61780e4e-d34c-446a-8140-b83516cf9a55",
   "metadata": {
    "colab": {
     "base_uri": "https://localhost:8080/"
    },
    "id": "61780e4e-d34c-446a-8140-b83516cf9a55",
    "outputId": "ecb7990e-b319-431c-801d-6dbe72d65125"
   },
   "outputs": [
    {
     "name": "stdout",
     "output_type": "stream",
     "text": [
      "\u001b[H\u001b[2J"
     ]
    }
   ],
   "source": [
    "clear all"
   ]
  },
  {
   "cell_type": "code",
   "execution_count": 25,
   "id": "2a72220e-6be1-43bd-bc16-a8c0a8733d4a",
   "metadata": {
    "id": "2a72220e-6be1-43bd-bc16-a8c0a8733d4a"
   },
   "outputs": [],
   "source": [
    "import numpy as np\n",
    "import matplotlib.pyplot as plt\n",
    "import scipy.io \n",
    "import numpy as np\n",
    "import pandas as pd\n",
    "from scipy.signal import butter, lfilter\n",
    "from scipy.fft import fft\n",
    "import random\n",
    "from sklearn import svm\n",
    "from sklearn.svm import SVC\n",
    "from sklearn.metrics import confusion_matrix\n",
    "from sklearn.neighbors import KNeighborsClassifier\n",
    "from sklearn import tree\n",
    "from sklearn.tree import DecisionTreeClassifier\n",
    "from sklearn.ensemble import RandomForestClassifier\n",
    "\n"
   ]
  },
  {
   "cell_type": "code",
   "execution_count": 26,
   "id": "zPtG3_qt8YGd",
   "metadata": {
    "id": "zPtG3_qt8YGd"
   },
   "outputs": [],
   "source": [
    "faultI10=scipy.io.loadmat('/home/sepehr/Desktop/Rotating Machine - Data/ZData_Fault_Rotating_Machine/unbalanced fault/without alphabet/Unbalanced.mat/Acquisition_un_1_10hz.mat')\n",
    "faultI30=scipy.io.loadmat('/home/sepehr/Desktop/Rotating Machine - Data/ZData_Fault_Rotating_Machine/unbalanced fault/without alphabet/Unbalanced.mat/Acquisition_un_1_30hz.mat')\n",
    "faultII10=scipy.io.loadmat('/home/sepehr/Desktop/Rotating Machine - Data/ZData_Fault_Rotating_Machine/unbalanced fault/without alphabet/Unbalanced.mat/Acquisition_un_2_10hz.mat')\n",
    "faultII30=scipy.io.loadmat('/home/sepehr/Desktop/Rotating Machine - Data/ZData_Fault_Rotating_Machine/unbalanced fault/without alphabet/Unbalanced.mat/Acquisition_un_2_30hz.mat')\n",
    "faultIII10=scipy.io.loadmat('/home/sepehr/Desktop/Rotating Machine - Data/ZData_Fault_Rotating_Machine/unbalanced fault/without alphabet/Unbalanced.mat/Acquisition_un_3_10hz.mat')\n",
    "faultIII30=scipy.io.loadmat('/home/sepehr/Desktop/Rotating Machine - Data/ZData_Fault_Rotating_Machine/unbalanced fault/without alphabet/Unbalanced.mat/Acquisition_un_3_30hz.mat')\n",
    "faultIV10=scipy.io.loadmat('/home/sepehr/Desktop/Rotating Machine - Data/ZData_Fault_Rotating_Machine/unbalanced fault/without alphabet/Unbalanced.mat/Acquisition_un_4_10hz.mat')\n",
    "faultIV30=scipy.io.loadmat('/home/sepehr/Desktop/Rotating Machine - Data/ZData_Fault_Rotating_Machine/unbalanced fault/without alphabet/Unbalanced.mat/Acquisition_un_4_30hz.mat')\n",
    "faultV10=scipy.io.loadmat('/home/sepehr/Desktop/Rotating Machine - Data/ZData_Fault_Rotating_Machine/unbalanced fault/without alphabet/Unbalanced.mat/Acquisition_un_5_10hz.mat')\n",
    "faultV30=scipy.io.loadmat('/home/sepehr/Desktop/Rotating Machine - Data/ZData_Fault_Rotating_Machine/unbalanced fault/without alphabet/Unbalanced.mat/Acquisition_un_5_30hz.mat')\n",
    "\n",
    "\n",
    "\n"
   ]
  },
  {
   "cell_type": "code",
   "execution_count": 27,
   "id": "0m2Uist6LyMj",
   "metadata": {
    "id": "0m2Uist6LyMj"
   },
   "outputs": [],
   "source": [
    "sigII30=faultII30['Acquisition_un_2_30hz']\n",
    "sigII10=faultII10['Acquisition_un_2_10hz']\n",
    "del faultII30,faultII10\n",
    "sigI30=faultI30['Acquisition_un_1_30hz']\n",
    "sigI10=faultI10['Acquisition_un_1_10hz']\n",
    "del faultI30,faultI10\n",
    "sigIII10=faultIII10['Acquisition_un_3_10hz']\n",
    "sigIII30=faultIII30['Acquisition_un_3_30hz']\n",
    "del faultIII10,faultIII30\n",
    "sigIV10=faultIV10['Acquisition_un_4_10hz']\n",
    "sigIV30=faultIV30['Acquisition_un_4_30hz']\n",
    "del faultIV10,faultIV30\n",
    "sigV10=faultV10['Acquisition_un_5_10hz']\n",
    "sigV30=faultV30['Acquisition_un_5_30hz']\n",
    "del faultV10,faultV30\n",
    "# sigVI10=faultVI10['Acquisition_un_6_10hz']\n",
    "# sigVI30=faultVI30['Acquisition_un_6_30hz']\n",
    "# del faultVI10,faultVI30"
   ]
  },
  {
   "cell_type": "code",
   "execution_count": 28,
   "id": "8BhBzYin7SFO",
   "metadata": {
    "id": "8BhBzYin7SFO"
   },
   "outputs": [],
   "source": [
    "\n",
    "def sliding_window(data, window_size, stride):\n",
    "    \"\"\"\n",
    "    Applies a sliding window to the given data with the specified window size\n",
    "    and stride length. Padding is added at the beginning and end of the data to\n",
    "    ensure all samples are included in windows.\n",
    "    \"\"\"\n",
    "    num_padding = window_size - stride\n",
    "    data_padded = np.pad(data, ((num_padding, num_padding), (0, 0)), 'constant')\n",
    "    window_data = []\n",
    "    for i in range(0, len(data_padded) - window_size + 1, stride):\n",
    "        window = data_padded[i:i+window_size, :]\n",
    "        window_data.append(window)\n",
    "    window_data = np.array(window_data)\n",
    "    # window_data = window_data[:training_size, :, :]\n",
    "    window_data = np.transpose(window_data, (0, 2, 1))\n",
    "    return window_data"
   ]
  },
  {
   "cell_type": "code",
   "execution_count": 29,
   "id": "cWxOnPFS7URd",
   "metadata": {
    "id": "cWxOnPFS7URd"
   },
   "outputs": [],
   "source": [
    "windowsize=1000\n",
    "stride=700"
   ]
  },
  {
   "cell_type": "code",
   "execution_count": 30,
   "id": "zAVETMOk7XKF",
   "metadata": {
    "id": "zAVETMOk7XKF"
   },
   "outputs": [],
   "source": [
    "sigtI10hz=sliding_window(sigI10,windowsize,stride)[:,1:13,:]\n",
    "sigtI30hz=sliding_window(sigI30,windowsize,stride)[:,1:13,:]\n",
    "sigtII10hz=sliding_window(sigII10,windowsize,stride)[:,1:13,:]\n",
    "sigtII30hz=sliding_window(sigII30,windowsize,stride)[:,1:13,:]\n",
    "del sigI10,sigI30,sigII10,sigII30\n",
    "sigtIII30hz=sliding_window(sigIII30,windowsize,stride)[:,1:13,:]\n",
    "sigtIII10hz=sliding_window(sigIII10,windowsize,stride)[:,1:13,:]\n",
    "sigtIV30hz=sliding_window(sigIV30,windowsize,stride)[:,1:13,:]\n",
    "sigtIV10hz=sliding_window(sigIV10,windowsize,stride)[:,1:13,:]\n",
    "del sigIII30,sigIII10,sigIV30,sigIV10\n",
    "sigtV30hz=sliding_window(sigV30,windowsize,stride)[:,1:13,:]\n",
    "sigtV10hz=sliding_window(sigV10,windowsize,stride)[:,1:13,:]\n",
    "# sigtVI30hz=sliding_window(sigVI30,windowsize,stride)\n",
    "# sigtVI10hz=sliding_window(sigVI10,windowsize,stride)\n",
    "# del sigV30,sigV10,sigVI30,sigVI10"
   ]
  },
  {
   "cell_type": "code",
   "execution_count": 31,
   "id": "eztt9Ct5MMrb",
   "metadata": {
    "id": "eztt9Ct5MMrb"
   },
   "outputs": [],
   "source": [
    "datalable1=np.concatenate([sigtI10hz,sigtI30hz],axis=-1)\n",
    "\n",
    "datalable2=np.concatenate([sigtII10hz,sigtII30hz],axis=-1)\n",
    "\n",
    "datalable3=np.concatenate([sigtIII10hz,sigtIII30hz],axis=-1)\n",
    "\n",
    "datalable4=np.concatenate([sigtIV10hz,sigtIV30hz],axis=-1)\n",
    "\n",
    "datalabele5=np.concatenate([sigtV10hz,sigtV30hz],axis=-1)\n"
   ]
  },
  {
   "cell_type": "code",
   "execution_count": 32,
   "id": "XfUB8VSqMT97",
   "metadata": {
    "id": "XfUB8VSqMT97"
   },
   "outputs": [],
   "source": [
    "#labels=np.concatenate((np.ones(np.shape(datalable1)[0]),np.zeros(np.shape(datalable1)[0]),np.ones(np.shape(datalable1)[0])*4,np.ones(np.shape(datalable1)[0])*2,np.ones(np.shape(datalable1)[0])*3),axis=0)\n",
    "dataall=np.concatenate([datalable1,datalable2,datalable3,datalable4,datalabele5],axis=0)"
   ]
  },
  {
   "cell_type": "code",
   "execution_count": 33,
   "id": "l0TCUypy5LqU",
   "metadata": {
    "colab": {
     "base_uri": "https://localhost:8080/"
    },
    "id": "l0TCUypy5LqU",
    "outputId": "df93d2dd-13e8-4fff-c8d9-d5ea4b40e9ee"
   },
   "outputs": [
    {
     "data": {
      "text/plain": [
       "(4305, 12, 2000)"
      ]
     },
     "execution_count": 33,
     "metadata": {},
     "output_type": "execute_result"
    }
   ],
   "source": [
    "np.shape(dataall)"
   ]
  },
  {
   "cell_type": "code",
   "execution_count": 34,
   "id": "JiqTSASTWFs2",
   "metadata": {
    "id": "JiqTSASTWFs2"
   },
   "outputs": [],
   "source": [
    "# import numpy as np\n",
    "# from scipy.signal import stft\n",
    "\n",
    "# # generate example signal with shape (7530, 12, 1000)\n",
    "# data = dataall\n",
    "\n",
    "# # set STFT parameters\n",
    "# window = 'hann'\n",
    "# nperseg = 256\n",
    "# noverlap = 128\n",
    "# fs = 10000\n",
    "\n",
    "# # compute STFT spectrogram for each channel\n",
    "# spectrograms = []\n",
    "# for i in range(data.shape[1]):\n",
    "#     _, _, spec = stft(data[:, i, :], fs=fs, window=window, nperseg=nperseg, noverlap=noverlap)\n",
    "#     spectrograms.append(np.abs(spec))\n",
    "\n",
    "# # stack spectrograms along the channel axis to get shape (7530, 12, num_freq_bins, num_time_bins)\n",
    "# spectrograms = np.stack(spectrograms, axis=1)\n",
    "\n",
    "\n",
    "\n"
   ]
  },
  {
   "cell_type": "code",
   "execution_count": 35,
   "id": "re1z7vnHYiNX",
   "metadata": {
    "colab": {
     "base_uri": "https://localhost:8080/"
    },
    "id": "re1z7vnHYiNX",
    "outputId": "0ecb1543-eefe-46d3-a5ae-cb8f39b30bcd"
   },
   "outputs": [],
   "source": [
    "# np.shape(spectrograms)"
   ]
  },
  {
   "cell_type": "code",
   "execution_count": 36,
   "id": "EViGZC2O8jzI",
   "metadata": {
    "id": "EViGZC2O8jzI"
   },
   "outputs": [],
   "source": [
    "# mean = np.mean(dataall, axis=(0, 1, 2, 3))\n",
    "# std = np.std(spectrograms, axis=(0, 1, 2, 3))\n",
    "# normalized_data = (spectrograms - mean) / std\n",
    "data=dataall\n"
   ]
  },
  {
   "cell_type": "code",
   "execution_count": 37,
   "id": "YavNwJdd8yHf",
   "metadata": {
    "colab": {
     "base_uri": "https://localhost:8080/"
    },
    "id": "YavNwJdd8yHf",
    "outputId": "fe827e8c-8806-4dcd-81eb-867b1588655d"
   },
   "outputs": [
    {
     "data": {
      "text/plain": [
       "(4305, 12, 2000)"
      ]
     },
     "execution_count": 37,
     "metadata": {},
     "output_type": "execute_result"
    }
   ],
   "source": [
    "np.shape(data)"
   ]
  },
  {
   "cell_type": "code",
   "execution_count": 38,
   "id": "XEZZREKkVVu3",
   "metadata": {
    "id": "XEZZREKkVVu3"
   },
   "outputs": [],
   "source": [
    "labels=np.concatenate((np.ones(np.shape(datalable1)[0]),np.zeros(np.shape(datalable1)[0]),np.ones(np.shape(datalable1)[0])*4,np.ones(np.shape(datalable1)[0])*2,np.ones(np.shape(datalable1)[0])*3),axis=0)"
   ]
  },
  {
   "cell_type": "code",
   "execution_count": 39,
   "id": "HIg0JQ-4hC68",
   "metadata": {
    "id": "HIg0JQ-4hC68"
   },
   "outputs": [
    {
     "data": {
      "text/plain": [
       "array([1., 1., 1., ..., 3., 3., 3.])"
      ]
     },
     "execution_count": 39,
     "metadata": {},
     "output_type": "execute_result"
    }
   ],
   "source": [
    "labels"
   ]
  },
  {
   "cell_type": "code",
   "execution_count": 40,
   "id": "4tuT02XWDPjo",
   "metadata": {
    "colab": {
     "base_uri": "https://localhost:8080/"
    },
    "id": "4tuT02XWDPjo",
    "outputId": "5002f132-ebe2-4ba1-fb56-aa4af79ddcb8"
   },
   "outputs": [
    {
     "data": {
      "text/plain": [
       "4305"
      ]
     },
     "execution_count": 40,
     "metadata": {},
     "output_type": "execute_result"
    }
   ],
   "source": [
    "np.size(labels)"
   ]
  },
  {
   "cell_type": "code",
   "execution_count": 41,
   "id": "-0DLnNclARZA",
   "metadata": {
    "id": "-0DLnNclARZA"
   },
   "outputs": [],
   "source": [
    "indices = np.random.permutation(data.shape[0])\n",
    "\n",
    "# Use the shuffled indices to shuffle both data and labels\n",
    "shuffled_data = data[indices]\n",
    "shuffled_labels = labels[indices]\n",
    "data= shuffled_data\n",
    "labels=shuffled_labels\n"
   ]
  },
  {
   "cell_type": "code",
   "execution_count": 42,
   "id": "7912fb42-e76b-4f68-b22a-84dd09ad4329",
   "metadata": {},
   "outputs": [
    {
     "data": {
      "text/plain": [
       "array([4., 0., 3., ..., 2., 4., 3.])"
      ]
     },
     "execution_count": 42,
     "metadata": {},
     "output_type": "execute_result"
    }
   ],
   "source": [
    "labels"
   ]
  },
  {
   "cell_type": "code",
   "execution_count": 43,
   "id": "1xjKJqwXA2tY",
   "metadata": {
    "colab": {
     "base_uri": "https://localhost:8080/"
    },
    "id": "1xjKJqwXA2tY",
    "outputId": "d32fa1fb-a1d3-499a-dbe2-62896ec4dbde"
   },
   "outputs": [
    {
     "name": "stdout",
     "output_type": "stream",
     "text": [
      "x_train shape: (3444, 12, 2000)\n",
      "y_train shape: (3444,)\n",
      "x_test shape: (861, 12, 2000)\n",
      "y_test shape: (861,)\n"
     ]
    }
   ],
   "source": [
    "from sklearn.model_selection import train_test_split\n",
    "\n",
    "# Assume stft_data is your STFT results stored in a variable\n",
    "# with shape (7530, 12, 129, 9)\n",
    "\n",
    "# Generate labels for your data (assuming you have labels available)\n",
    "\n",
    "\n",
    "# Split the data and labels into training and test sets\n",
    "x_train, x_test, y_train, y_test = train_test_split(data, labels, test_size=0.2, random_state=20)\n",
    "\n",
    "\n",
    "print(f\"x_train shape: {x_train.shape}\")  # should be (6024, 12, 129, 9)\n",
    "print(f\"y_train shape: {y_train.shape}\")  # should be (6024,)\n",
    "print(f\"x_test shape: {x_test.shape}\")    # should be (1506, 12, 129, 9)\n",
    "print(f\"y_test shape: {y_test.shape}\")    # should be (1506,)\n"
   ]
  },
  {
   "cell_type": "code",
   "execution_count": 44,
   "id": "7165cd6a-6994-47bf-81f6-3cb776dd14bb",
   "metadata": {},
   "outputs": [],
   "source": [
    "# from keras.utils import to_categorical\n",
    "# y_train1 = to_categorical(y_train)\n",
    "# y_test1 = to_categorical(y_test, num_classes=5)\n",
    "# print(f\"x_test shape: {y_train1.shape}\")    # should be (1506, 12, 129, 9)\n",
    "# print(f\"y_test shape: {y_test.shape}\")"
   ]
  },
  {
   "cell_type": "code",
   "execution_count": 45,
   "id": "26d1b0ba",
   "metadata": {},
   "outputs": [
    {
     "name": "stdout",
     "output_type": "stream",
     "text": [
      "(4305, 12, 2000, 1)\n"
     ]
    }
   ],
   "source": [
    "# x_train = x_train.reshape((1720,12,129*25))\n",
    "# x_test = x_test.reshape((430,12,129*25))\n",
    "\n",
    "data = dataall.reshape(dataall.shape[0], dataall.shape[1], dataall.shape[2], 1)\n",
    "print(data.shape)"
   ]
  },
  {
   "cell_type": "code",
   "execution_count": 47,
   "id": "23121436",
   "metadata": {},
   "outputs": [],
   "source": [
    "train_data, test_data, train_labels, test_labels = train_test_split(data, labels, test_size=0.2, random_state=2)"
   ]
  },
  {
   "cell_type": "code",
   "execution_count": 48,
   "id": "38532ac1",
   "metadata": {},
   "outputs": [
    {
     "name": "stdout",
     "output_type": "stream",
     "text": [
      "Epoch 1/50\n",
      "3/3 [==============================] - 3s 672ms/step - loss: 2.9001 - accuracy: 0.2054 - val_loss: 2.4042 - val_accuracy: 0.2177\n",
      "Epoch 2/50\n",
      "3/3 [==============================] - 2s 584ms/step - loss: 2.9480 - accuracy: 0.2054 - val_loss: 2.6668 - val_accuracy: 0.2104\n",
      "Epoch 3/50\n",
      "3/3 [==============================] - 2s 607ms/step - loss: 2.1764 - accuracy: 0.2047 - val_loss: 2.2958 - val_accuracy: 0.1713\n",
      "Epoch 4/50\n",
      "3/3 [==============================] - 2s 605ms/step - loss: 2.2912 - accuracy: 0.2029 - val_loss: 1.6833 - val_accuracy: 0.2104\n",
      "Epoch 5/50\n",
      "3/3 [==============================] - 2s 586ms/step - loss: 1.7174 - accuracy: 0.2105 - val_loss: 2.0198 - val_accuracy: 0.2177\n",
      "Epoch 6/50\n",
      "3/3 [==============================] - 2s 596ms/step - loss: 1.9671 - accuracy: 0.2058 - val_loss: 1.7283 - val_accuracy: 0.1785\n",
      "Epoch 7/50\n",
      "3/3 [==============================] - 2s 591ms/step - loss: 1.7124 - accuracy: 0.2080 - val_loss: 1.7756 - val_accuracy: 0.2104\n",
      "Epoch 8/50\n",
      "3/3 [==============================] - 2s 609ms/step - loss: 1.7319 - accuracy: 0.1982 - val_loss: 1.6396 - val_accuracy: 0.2119\n",
      "Epoch 9/50\n",
      "3/3 [==============================] - 2s 616ms/step - loss: 1.6710 - accuracy: 0.2327 - val_loss: 1.6942 - val_accuracy: 0.2061\n",
      "Epoch 10/50\n",
      "3/3 [==============================] - 2s 686ms/step - loss: 1.6645 - accuracy: 0.2472 - val_loss: 1.6740 - val_accuracy: 0.1713\n",
      "Epoch 11/50\n",
      "3/3 [==============================] - 2s 707ms/step - loss: 1.6384 - accuracy: 0.2022 - val_loss: 1.6488 - val_accuracy: 0.2119\n",
      "Epoch 12/50\n",
      "3/3 [==============================] - 2s 701ms/step - loss: 1.6195 - accuracy: 0.1978 - val_loss: 1.6210 - val_accuracy: 0.2119\n",
      "Epoch 13/50\n",
      "3/3 [==============================] - 2s 683ms/step - loss: 1.6224 - accuracy: 0.2396 - val_loss: 1.6182 - val_accuracy: 0.2293\n",
      "Epoch 14/50\n",
      "3/3 [==============================] - 2s 678ms/step - loss: 1.5980 - accuracy: 0.2519 - val_loss: 1.6437 - val_accuracy: 0.1713\n",
      "Epoch 15/50\n",
      "3/3 [==============================] - 2s 685ms/step - loss: 1.6043 - accuracy: 0.2054 - val_loss: 1.6157 - val_accuracy: 0.2090\n",
      "Epoch 16/50\n",
      "3/3 [==============================] - 2s 697ms/step - loss: 1.5901 - accuracy: 0.2381 - val_loss: 1.6111 - val_accuracy: 0.2104\n",
      "Epoch 17/50\n",
      "3/3 [==============================] - 2s 692ms/step - loss: 1.5922 - accuracy: 0.2980 - val_loss: 1.6153 - val_accuracy: 0.1988\n",
      "Epoch 18/50\n",
      "3/3 [==============================] - 2s 676ms/step - loss: 1.5875 - accuracy: 0.2232 - val_loss: 1.6275 - val_accuracy: 0.1727\n",
      "Epoch 19/50\n",
      "3/3 [==============================] - 2s 680ms/step - loss: 1.5814 - accuracy: 0.2693 - val_loss: 1.6081 - val_accuracy: 0.2293\n",
      "Epoch 20/50\n",
      "3/3 [==============================] - 2s 694ms/step - loss: 1.5823 - accuracy: 0.3343 - val_loss: 1.6092 - val_accuracy: 0.1959\n",
      "Epoch 21/50\n",
      "3/3 [==============================] - 2s 697ms/step - loss: 1.5714 - accuracy: 0.3517 - val_loss: 1.6276 - val_accuracy: 0.1742\n",
      "Epoch 22/50\n",
      "3/3 [==============================] - 2s 684ms/step - loss: 1.5753 - accuracy: 0.2309 - val_loss: 1.6124 - val_accuracy: 0.2046\n",
      "Epoch 23/50\n",
      "3/3 [==============================] - 2s 676ms/step - loss: 1.5693 - accuracy: 0.3996 - val_loss: 1.6102 - val_accuracy: 0.1829\n",
      "Epoch 24/50\n",
      "3/3 [==============================] - 2s 673ms/step - loss: 1.5642 - accuracy: 0.3985 - val_loss: 1.6166 - val_accuracy: 0.1843\n",
      "Epoch 25/50\n",
      "3/3 [==============================] - 2s 686ms/step - loss: 1.5646 - accuracy: 0.3223 - val_loss: 1.6166 - val_accuracy: 0.1829\n",
      "Epoch 26/50\n",
      "3/3 [==============================] - 2s 716ms/step - loss: 1.5588 - accuracy: 0.4094 - val_loss: 1.6132 - val_accuracy: 0.1916\n",
      "Epoch 27/50\n",
      "3/3 [==============================] - 2s 696ms/step - loss: 1.5583 - accuracy: 0.3564 - val_loss: 1.6113 - val_accuracy: 0.1945\n",
      "Epoch 28/50\n",
      "3/3 [==============================] - 2s 684ms/step - loss: 1.5522 - accuracy: 0.4414 - val_loss: 1.6189 - val_accuracy: 0.1785\n",
      "Epoch 29/50\n",
      "3/3 [==============================] - 2s 665ms/step - loss: 1.5531 - accuracy: 0.3408 - val_loss: 1.6147 - val_accuracy: 0.1901\n",
      "Epoch 30/50\n",
      "3/3 [==============================] - 2s 656ms/step - loss: 1.5483 - accuracy: 0.3721 - val_loss: 1.6161 - val_accuracy: 0.2163\n",
      "Epoch 31/50\n",
      "3/3 [==============================] - 2s 678ms/step - loss: 1.5450 - accuracy: 0.4515 - val_loss: 1.6165 - val_accuracy: 0.1959\n",
      "Epoch 32/50\n",
      "3/3 [==============================] - 2s 680ms/step - loss: 1.5428 - accuracy: 0.4316 - val_loss: 1.6144 - val_accuracy: 0.1916\n",
      "Epoch 33/50\n",
      "3/3 [==============================] - 2s 683ms/step - loss: 1.5397 - accuracy: 0.4363 - val_loss: 1.6109 - val_accuracy: 0.2235\n",
      "Epoch 34/50\n",
      "3/3 [==============================] - 2s 674ms/step - loss: 1.5340 - accuracy: 0.5292 - val_loss: 1.6203 - val_accuracy: 0.1742\n",
      "Epoch 35/50\n",
      "3/3 [==============================] - 2s 708ms/step - loss: 1.5318 - accuracy: 0.4323 - val_loss: 1.6163 - val_accuracy: 0.1930\n",
      "Epoch 36/50\n",
      "3/3 [==============================] - 2s 717ms/step - loss: 1.5287 - accuracy: 0.4824 - val_loss: 1.6126 - val_accuracy: 0.2279\n",
      "Epoch 37/50\n",
      "3/3 [==============================] - 2s 681ms/step - loss: 1.5247 - accuracy: 0.4998 - val_loss: 1.6188 - val_accuracy: 0.1742\n",
      "Epoch 38/50\n",
      "3/3 [==============================] - 2s 679ms/step - loss: 1.5228 - accuracy: 0.4258 - val_loss: 1.6160 - val_accuracy: 0.1858\n",
      "Epoch 39/50\n",
      "3/3 [==============================] - 2s 691ms/step - loss: 1.5162 - accuracy: 0.5419 - val_loss: 1.6148 - val_accuracy: 0.2017\n",
      "Epoch 40/50\n",
      "3/3 [==============================] - 2s 696ms/step - loss: 1.5132 - accuracy: 0.5212 - val_loss: 1.6240 - val_accuracy: 0.1727\n",
      "Epoch 41/50\n",
      "3/3 [==============================] - 2s 732ms/step - loss: 1.5105 - accuracy: 0.4868 - val_loss: 1.6155 - val_accuracy: 0.2046\n",
      "Epoch 42/50\n",
      "3/3 [==============================] - 2s 689ms/step - loss: 1.5078 - accuracy: 0.4824 - val_loss: 1.6147 - val_accuracy: 0.1887\n",
      "Epoch 43/50\n",
      "3/3 [==============================] - 2s 694ms/step - loss: 1.5065 - accuracy: 0.5416 - val_loss: 1.6237 - val_accuracy: 0.1843\n",
      "Epoch 44/50\n",
      "3/3 [==============================] - 2s 695ms/step - loss: 1.5003 - accuracy: 0.4530 - val_loss: 1.6161 - val_accuracy: 0.2003\n",
      "Epoch 45/50\n",
      "3/3 [==============================] - 2s 688ms/step - loss: 1.4957 - accuracy: 0.5020 - val_loss: 1.6217 - val_accuracy: 0.1945\n",
      "Epoch 46/50\n",
      "3/3 [==============================] - 2s 671ms/step - loss: 1.4906 - accuracy: 0.5768 - val_loss: 1.6215 - val_accuracy: 0.2046\n",
      "Epoch 47/50\n",
      "3/3 [==============================] - 2s 686ms/step - loss: 1.4882 - accuracy: 0.5056 - val_loss: 1.6218 - val_accuracy: 0.1814\n",
      "Epoch 48/50\n",
      "3/3 [==============================] - 2s 680ms/step - loss: 1.4846 - accuracy: 0.5441 - val_loss: 1.6202 - val_accuracy: 0.1988\n",
      "Epoch 49/50\n",
      "3/3 [==============================] - 2s 671ms/step - loss: 1.4808 - accuracy: 0.5176 - val_loss: 1.6189 - val_accuracy: 0.2206\n",
      "Epoch 50/50\n",
      "3/3 [==============================] - 2s 672ms/step - loss: 1.4747 - accuracy: 0.5662 - val_loss: 1.6281 - val_accuracy: 0.1843\n"
     ]
    },
    {
     "data": {
      "text/plain": [
       "<keras.callbacks.History at 0x7fb57a1d61d0>"
      ]
     },
     "execution_count": 48,
     "metadata": {},
     "output_type": "execute_result"
    },
    {
     "ename": "",
     "evalue": "",
     "output_type": "error",
     "traceback": [
      "\u001b[1;31mThe Kernel crashed while executing code in the the current cell or a previous cell. Please review the code in the cell(s) to identify a possible cause of the failure. Click <a href='https://aka.ms/vscodeJupyterKernelCrash'>here</a> for more info. View Jupyter <a href='command:jupyter.viewOutput'>log</a> for further details."
     ]
    }
   ],
   "source": [
    "import numpy as np\n",
    "from sklearn.model_selection import train_test_split\n",
    "from tensorflow.keras.models import Sequential\n",
    "from tensorflow.keras.layers import DepthwiseConv2D, Flatten, Dense\n",
    "\n",
    "\n",
    "# reshape the data to have 4 dimensions\n",
    "\n",
    "data = dataall.reshape(dataall.shape[0], dataall.shape[1], dataall.shape[2], 1)\n",
    "\n",
    "# create labels\n",
    "\n",
    "\n",
    "# # split the data into training and testing sets\n",
    "# train_data, test_data, train_labels, test_labels = train_test_split(data, labels, test_size=0.2, random_state=2)\n",
    "\n",
    "\n",
    "# create the model\n",
    "model = Sequential()\n",
    "model.add(DepthwiseConv2D(kernel_size=(3, 3), strides=(1, 1), depth_multiplier=1, padding='same', activation='relu', input_shape=(12, 2000, 1)))\n",
    "# model.add(DepthwiseConv2D(kernel_size=(3, 3), strides=(1, 1), depth_multiplier=1, padding='same', activation='relu', input_shape=(12, 2000, 1)))\n",
    "model.add(Flatten())\n",
    "model.add(Dense(5, activation='softmax'))\n",
    "# model = Sequential()\n",
    "# model.add(DepthwiseConv2D(kernel_size=(3, 3), strides=(1, 1), depth_multiplier=1, padding='same', activation='relu', input_shape=(12, 2000, 1)))\n",
    "# model.add(DepthwiseConv2D(kernel_size=(3, 3), strides=(1, 1), depth_multiplier=1, padding='same', activation='relu'))\n",
    "# model.add(DepthwiseConv2D(kernel_size=(3, 3), strides=(1, 1), depth_multiplier=1, padding='same', activation='relu'))\n",
    "# model.add(Flatten())\n",
    "# model.add(Dense(5, activation='softmax'))\n",
    "\n",
    "\n",
    "# compile the model\n",
    "model.compile(loss='sparse_categorical_crossentropy', optimizer='adam', metrics=['accuracy'])\n",
    "\n",
    "# train the model\n",
    "model.fit(train_data, train_labels, epochs=50, batch_size=1024, validation_split=0.2)"
   ]
  },
  {
   "cell_type": "code",
   "execution_count": null,
   "id": "2GhzbQeYRCtH",
   "metadata": {
    "colab": {
     "base_uri": "https://localhost:8080/"
    },
    "id": "2GhzbQeYRCtH",
    "outputId": "f1ad55f9-26d1-4c73-8ae4-1140ab6be71b"
   },
   "outputs": [],
   "source": [
    "import numpy as np\n",
    "from sklearn.metrics import confusion_matrix\n",
    "\n",
    "\n",
    "# Evaluate the model on the test set with multi-class labels\n",
    "test_loss_multi, test_acc_multi = model.evaluate(x_test, y_test1, verbose=2)\n",
    "print('Test accuracy multi:', test_acc_multi)\n",
    "\n",
    "# Convert y_test1 to a multi-class format\n",
    "y_pred_multi = model.predict(x_test)\n",
    "y_test_pred_multi = np.argmax(y_pred_multi, axis=1)\n",
    "\n",
    "# Compute the confusion matrix for multi-class\n",
    "print('Multi-class:', confusion_matrix(np.argmax(y_test1, axis=1), y_test_pred_multi))\n",
    "\n",
    "# Evaluate the model on the test set with normal labels\n",
    "test_loss_normal, test_acc_normal = model.evaluate(x_test, y_test1, verbose=2)\n",
    "print('Test accuracy normal:', test_acc_normal)\n",
    "\n",
    "# Convert y_test to a multi-class format\n",
    "y_pred_normal = model.predict(x_test)\n",
    "y_test_pred_normal = np.argmax(y_pred_normal, axis=1)\n",
    "\n",
    "# Compute the confusion matrix for normal labels\n",
    "print('Normal labels:', confusion_matrix(y_test, y_test_pred_normal))\n"
   ]
  }
 ],
 "metadata": {
  "colab": {
   "provenance": []
  },
  "kernelspec": {
   "display_name": "Python 3 (ipykernel)",
   "language": "python",
   "name": "python3"
  },
  "language_info": {
   "codemirror_mode": {
    "name": "ipython",
    "version": 3
   },
   "file_extension": ".py",
   "mimetype": "text/x-python",
   "name": "python",
   "nbconvert_exporter": "python",
   "pygments_lexer": "ipython3",
   "version": "3.11.0rc1"
  }
 },
 "nbformat": 4,
 "nbformat_minor": 5
}
