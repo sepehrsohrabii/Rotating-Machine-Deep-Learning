{
 "cells": [
  {
   "cell_type": "code",
   "execution_count": 1,
   "id": "2a72220e-6be1-43bd-bc16-a8c0a8733d4a",
   "metadata": {
    "id": "2a72220e-6be1-43bd-bc16-a8c0a8733d4a"
   },
   "outputs": [],
   "source": [
    "import numpy as np\n",
    "import matplotlib.pyplot as plt\n",
    "import scipy.io \n",
    "import numpy as np\n",
    "import pandas as pd\n",
    "from scipy.signal import butter, lfilter\n",
    "from scipy.fft import fft\n",
    "import random\n",
    "from sklearn import svm\n",
    "from sklearn.svm import SVC\n",
    "from sklearn.metrics import confusion_matrix\n",
    "from sklearn.neighbors import KNeighborsClassifier\n",
    "from sklearn import tree\n",
    "from sklearn.tree import DecisionTreeClassifier\n",
    "from sklearn.ensemble import RandomForestClassifier\n",
    "\n"
   ]
  },
  {
   "cell_type": "code",
   "execution_count": 2,
   "id": "zPtG3_qt8YGd",
   "metadata": {
    "id": "zPtG3_qt8YGd"
   },
   "outputs": [],
   "source": [
    "faultI10=scipy.io.loadmat('/home/sepehr/Desktop/Rotating Machine - Data/ZData_Fault_Rotating_Machine/unbalanced fault/without alphabet/Unbalanced.mat/Acquisition_un_1_10hz.mat')\n",
    "faultI30=scipy.io.loadmat('/home/sepehr/Desktop/Rotating Machine - Data/ZData_Fault_Rotating_Machine/unbalanced fault/without alphabet/Unbalanced.mat/Acquisition_un_1_30hz.mat')\n",
    "faultII10=scipy.io.loadmat('/home/sepehr/Desktop/Rotating Machine - Data/ZData_Fault_Rotating_Machine/unbalanced fault/without alphabet/Unbalanced.mat/Acquisition_un_2_10hz.mat')\n",
    "faultII30=scipy.io.loadmat('/home/sepehr/Desktop/Rotating Machine - Data/ZData_Fault_Rotating_Machine/unbalanced fault/without alphabet/Unbalanced.mat/Acquisition_un_2_30hz.mat')\n",
    "faultIII10=scipy.io.loadmat('/home/sepehr/Desktop/Rotating Machine - Data/ZData_Fault_Rotating_Machine/unbalanced fault/without alphabet/Unbalanced.mat/Acquisition_un_3_10hz.mat')\n",
    "faultIII30=scipy.io.loadmat('/home/sepehr/Desktop/Rotating Machine - Data/ZData_Fault_Rotating_Machine/unbalanced fault/without alphabet/Unbalanced.mat/Acquisition_un_3_30hz.mat')\n",
    "faultIV10=scipy.io.loadmat('/home/sepehr/Desktop/Rotating Machine - Data/ZData_Fault_Rotating_Machine/unbalanced fault/without alphabet/Unbalanced.mat/Acquisition_un_4_10hz.mat')\n",
    "faultIV30=scipy.io.loadmat('/home/sepehr/Desktop/Rotating Machine - Data/ZData_Fault_Rotating_Machine/unbalanced fault/without alphabet/Unbalanced.mat/Acquisition_un_4_30hz.mat')\n",
    "faultV10=scipy.io.loadmat('/home/sepehr/Desktop/Rotating Machine - Data/ZData_Fault_Rotating_Machine/unbalanced fault/without alphabet/Unbalanced.mat/Acquisition_un_5_10hz.mat')\n",
    "faultV30=scipy.io.loadmat('/home/sepehr/Desktop/Rotating Machine - Data/ZData_Fault_Rotating_Machine/unbalanced fault/without alphabet/Unbalanced.mat/Acquisition_un_5_30hz.mat')\n",
    "\n",
    "\n",
    "\n"
   ]
  },
  {
   "cell_type": "code",
   "execution_count": 3,
   "id": "0m2Uist6LyMj",
   "metadata": {
    "id": "0m2Uist6LyMj"
   },
   "outputs": [],
   "source": [
    "sigII30=faultII30['Acquisition_un_2_30hz']\n",
    "sigII10=faultII10['Acquisition_un_2_10hz']\n",
    "del faultII30,faultII10\n",
    "sigI30=faultI30['Acquisition_un_1_30hz']\n",
    "sigI10=faultI10['Acquisition_un_1_10hz']\n",
    "del faultI30,faultI10\n",
    "sigIII10=faultIII10['Acquisition_un_3_10hz']\n",
    "sigIII30=faultIII30['Acquisition_un_3_30hz']\n",
    "del faultIII10,faultIII30\n",
    "sigIV10=faultIV10['Acquisition_un_4_10hz']\n",
    "sigIV30=faultIV30['Acquisition_un_4_30hz']\n",
    "del faultIV10,faultIV30\n",
    "sigV10=faultV10['Acquisition_un_5_10hz']\n",
    "sigV30=faultV30['Acquisition_un_5_30hz']\n",
    "del faultV10,faultV30\n",
    "# sigVI10=faultVI10['Acquisition_un_6_10hz']\n",
    "# sigVI30=faultVI30['Acquisition_un_6_30hz']\n",
    "# del faultVI10,faultVI30"
   ]
  },
  {
   "cell_type": "code",
   "execution_count": 4,
   "id": "8BhBzYin7SFO",
   "metadata": {
    "id": "8BhBzYin7SFO"
   },
   "outputs": [],
   "source": [
    "\n",
    "def sliding_window(data, window_size, stride):\n",
    "    \"\"\"\n",
    "    Applies a sliding window to the given data with the specified window size\n",
    "    and stride length. Padding is added at the beginning and end of the data to\n",
    "    ensure all samples are included in windows.\n",
    "    \"\"\"\n",
    "    num_padding = window_size - stride\n",
    "    data_padded = np.pad(data, ((num_padding, num_padding), (0, 0)), 'constant')\n",
    "    window_data = []\n",
    "    for i in range(0, len(data_padded) - window_size + 1, stride):\n",
    "        window = data_padded[i:i+window_size, :]\n",
    "        window_data.append(window)\n",
    "    window_data = np.array(window_data)\n",
    "    # window_data = window_data[:training_size, :, :]\n",
    "    window_data = np.transpose(window_data, (0, 2, 1))\n",
    "    return window_data"
   ]
  },
  {
   "cell_type": "code",
   "execution_count": 5,
   "id": "cWxOnPFS7URd",
   "metadata": {
    "id": "cWxOnPFS7URd"
   },
   "outputs": [],
   "source": [
    "windowsize=1500\n",
    "stride=1400"
   ]
  },
  {
   "cell_type": "code",
   "execution_count": 6,
   "id": "zAVETMOk7XKF",
   "metadata": {
    "id": "zAVETMOk7XKF"
   },
   "outputs": [],
   "source": [
    "sigtI10hz=sliding_window(sigI10,windowsize,stride)[:,1:13,:]\n",
    "sigtI30hz=sliding_window(sigI30,windowsize,stride)[:,1:13,:]\n",
    "sigtII10hz=sliding_window(sigII10,windowsize,stride)[:,1:13,:]\n",
    "sigtII30hz=sliding_window(sigII30,windowsize,stride)[:,1:13,:]\n",
    "del sigI10,sigI30,sigII10,sigII30\n",
    "sigtIII30hz=sliding_window(sigIII30,windowsize,stride)[:,1:13,:]\n",
    "sigtIII10hz=sliding_window(sigIII10,windowsize,stride)[:,1:13,:]\n",
    "sigtIV30hz=sliding_window(sigIV30,windowsize,stride)[:,1:13,:]\n",
    "sigtIV10hz=sliding_window(sigIV10,windowsize,stride)[:,1:13,:]\n",
    "del sigIII30,sigIII10,sigIV30,sigIV10\n",
    "sigtV30hz=sliding_window(sigV30,windowsize,stride)[:,1:13,:]\n",
    "sigtV10hz=sliding_window(sigV10,windowsize,stride)[:,1:13,:]\n",
    "# sigtVI30hz=sliding_window(sigVI30,windowsize,stride)\n",
    "# sigtVI10hz=sliding_window(sigVI10,windowsize,stride)\n",
    "# del sigV30,sigV10,sigVI30,sigVI10"
   ]
  },
  {
   "cell_type": "code",
   "execution_count": 7,
   "id": "eztt9Ct5MMrb",
   "metadata": {
    "id": "eztt9Ct5MMrb"
   },
   "outputs": [],
   "source": [
    "datalable1=np.concatenate([sigtI10hz,sigtI30hz],axis=-1)\n",
    "\n",
    "datalable2=np.concatenate([sigtII10hz,sigtII30hz],axis=-1)\n",
    "\n",
    "datalable3=np.concatenate([sigtIII10hz,sigtIII30hz],axis=-1)\n",
    "\n",
    "datalable4=np.concatenate([sigtIV10hz,sigtIV30hz],axis=-1)\n",
    "\n",
    "datalabele5=np.concatenate([sigtV10hz,sigtV30hz],axis=-1)\n"
   ]
  },
  {
   "cell_type": "code",
   "execution_count": 8,
   "id": "XfUB8VSqMT97",
   "metadata": {
    "id": "XfUB8VSqMT97"
   },
   "outputs": [],
   "source": [
    "labels=np.concatenate((np.ones(np.shape(datalable1)[0]),np.zeros(np.shape(datalable1)[0]),np.ones(np.shape(datalable1)[0])*4,np.ones(np.shape(datalable1)[0])*2,np.ones(np.shape(datalable1)[0])*3),axis=0)\n",
    "\n",
    "dataall=np.concatenate([datalable1,datalable2,datalable3,datalable4,datalabele5],axis=0)"
   ]
  },
  {
   "cell_type": "code",
   "execution_count": 9,
   "id": "l0TCUypy5LqU",
   "metadata": {
    "colab": {
     "base_uri": "https://localhost:8080/"
    },
    "id": "l0TCUypy5LqU",
    "outputId": "df93d2dd-13e8-4fff-c8d9-d5ea4b40e9ee"
   },
   "outputs": [
    {
     "data": {
      "text/plain": [
       "(2150, 12, 3000)"
      ]
     },
     "execution_count": 9,
     "metadata": {},
     "output_type": "execute_result"
    }
   ],
   "source": [
    "np.shape(dataall)"
   ]
  },
  {
   "cell_type": "code",
   "execution_count": 10,
   "id": "JiqTSASTWFs2",
   "metadata": {
    "id": "JiqTSASTWFs2"
   },
   "outputs": [],
   "source": [
    "import numpy as np\n",
    "from scipy.signal import stft\n",
    "\n",
    "# generate example signal with shape (7530, 12, 1000)\n",
    "data = dataall\n",
    "\n",
    "# set STFT parameters\n",
    "window = 'hann'\n",
    "nperseg = 256\n",
    "noverlap = 128\n",
    "fs = 10000\n",
    "\n",
    "# compute STFT spectrogram for each channel\n",
    "spectrograms = []\n",
    "for i in range(data.shape[1]):\n",
    "    _, _, spec = stft(data[:, i, :], fs=fs, window=window, nperseg=nperseg, noverlap=noverlap)\n",
    "    spectrograms.append(np.abs(spec))\n",
    "\n",
    "# stack spectrograms along the channel axis to get shape (7530, 12, num_freq_bins, num_time_bins)\n",
    "spectrograms = np.stack(spectrograms, axis=1)\n",
    "\n",
    "\n",
    "\n"
   ]
  },
  {
   "cell_type": "code",
   "execution_count": 11,
   "id": "re1z7vnHYiNX",
   "metadata": {
    "colab": {
     "base_uri": "https://localhost:8080/"
    },
    "id": "re1z7vnHYiNX",
    "outputId": "0ecb1543-eefe-46d3-a5ae-cb8f39b30bcd"
   },
   "outputs": [
    {
     "data": {
      "text/plain": [
       "(2150, 12, 129, 25)"
      ]
     },
     "execution_count": 11,
     "metadata": {},
     "output_type": "execute_result"
    }
   ],
   "source": [
    "np.shape(spectrograms)"
   ]
  },
  {
   "cell_type": "code",
   "execution_count": 12,
   "id": "EViGZC2O8jzI",
   "metadata": {
    "id": "EViGZC2O8jzI"
   },
   "outputs": [],
   "source": [
    "mean = np.mean(spectrograms, axis=(0, 1, 2, 3))\n",
    "std = np.std(spectrograms, axis=(0, 1, 2, 3))\n",
    "normalized_data = (spectrograms - mean) / std\n",
    "data=normalized_data\n"
   ]
  },
  {
   "cell_type": "code",
   "execution_count": 13,
   "id": "YavNwJdd8yHf",
   "metadata": {
    "colab": {
     "base_uri": "https://localhost:8080/"
    },
    "id": "YavNwJdd8yHf",
    "outputId": "fe827e8c-8806-4dcd-81eb-867b1588655d"
   },
   "outputs": [
    {
     "data": {
      "text/plain": [
       "(2150, 12, 129, 25)"
      ]
     },
     "execution_count": 13,
     "metadata": {},
     "output_type": "execute_result"
    }
   ],
   "source": [
    "np.shape(data)"
   ]
  },
  {
   "cell_type": "code",
   "execution_count": 14,
   "id": "-0DLnNclARZA",
   "metadata": {
    "id": "-0DLnNclARZA"
   },
   "outputs": [],
   "source": [
    "indices = np.random.permutation(data.shape[0])\n",
    "\n",
    "# Use the shuffled indices to shuffle both data and labels\n",
    "shuffled_data = data[indices]\n",
    "shuffled_labels = labels[indices]\n",
    "data= shuffled_data\n",
    "labels=shuffled_labels\n"
   ]
  },
  {
   "cell_type": "code",
   "execution_count": 15,
   "id": "1xjKJqwXA2tY",
   "metadata": {
    "colab": {
     "base_uri": "https://localhost:8080/"
    },
    "id": "1xjKJqwXA2tY",
    "outputId": "d32fa1fb-a1d3-499a-dbe2-62896ec4dbde"
   },
   "outputs": [
    {
     "name": "stdout",
     "output_type": "stream",
     "text": [
      "x_train shape: (1720, 12, 129, 25)\n",
      "y_train shape: (1720,)\n",
      "x_test shape: (430, 12, 129, 25)\n",
      "y_test shape: (430,)\n"
     ]
    }
   ],
   "source": [
    "from sklearn.model_selection import train_test_split\n",
    "\n",
    "# Assume stft_data is your STFT results stored in a variable\n",
    "# with shape (7530, 12, 129, 9)\n",
    "\n",
    "# Generate labels for your data (assuming you have labels available)\n",
    "\n",
    "\n",
    "# Split the data and labels into training and test sets\n",
    "x_train, x_test, y_train, y_test = train_test_split(data, labels, test_size=0.2, random_state=42)\n",
    "\n",
    "\n",
    "print(f\"x_train shape: {x_train.shape}\")  # should be (6024, 12, 129, 9)\n",
    "print(f\"y_train shape: {y_train.shape}\")  # should be (6024,)\n",
    "print(f\"x_test shape: {x_test.shape}\")    # should be (1506, 12, 129, 9)\n",
    "print(f\"y_test shape: {y_test.shape}\")    # should be (1506,)\n"
   ]
  },
  {
   "cell_type": "code",
   "execution_count": 16,
   "id": "7165cd6a-6994-47bf-81f6-3cb776dd14bb",
   "metadata": {},
   "outputs": [
    {
     "name": "stderr",
     "output_type": "stream",
     "text": [
      "2023-05-05 14:39:32.373597: I tensorflow/tsl/cuda/cudart_stub.cc:28] Could not find cuda drivers on your machine, GPU will not be used.\n",
      "2023-05-05 14:39:32.490012: I tensorflow/tsl/cuda/cudart_stub.cc:28] Could not find cuda drivers on your machine, GPU will not be used.\n",
      "2023-05-05 14:39:32.491280: I tensorflow/core/platform/cpu_feature_guard.cc:182] This TensorFlow binary is optimized to use available CPU instructions in performance-critical operations.\n",
      "To enable the following instructions: AVX2 FMA, in other operations, rebuild TensorFlow with the appropriate compiler flags.\n",
      "2023-05-05 14:39:34.407707: W tensorflow/compiler/tf2tensorrt/utils/py_utils.cc:38] TF-TRT Warning: Could not find TensorRT\n"
     ]
    }
   ],
   "source": [
    "from keras.utils import to_categorical\n",
    "y_train1 = to_categorical(y_train)\n",
    "y_test1 = to_categorical(y_test, num_classes=5)\n",
    "# print(f\"x_test shape: {y_train1.shape}\")    # should be (1506, 12, 129, 9)\n",
    "# print(f\"y_test shape: {y_test.shape}\")"
   ]
  },
  {
   "cell_type": "code",
   "execution_count": 17,
   "id": "26d1b0ba",
   "metadata": {},
   "outputs": [],
   "source": [
    "x_train = x_train.reshape((1720,12,129*25))\n",
    "x_test = x_test.reshape((430,12,129*25))"
   ]
  },
  {
   "cell_type": "code",
   "execution_count": 24,
   "id": "07eece98-e4fd-455f-8f7c-75a611b3fbeb",
   "metadata": {},
   "outputs": [
    {
     "name": "stdout",
     "output_type": "stream",
     "text": [
      "(None, 12, 64)\n",
      "(None, 12, 64)\n"
     ]
    },
    {
     "ename": "InvalidArgumentError",
     "evalue": "{{function_node __wrapped__ExpandDims_device_/job:localhost/replica:0/task:0/device:CPU:0}} Tried to expand dim index 1 for tensor with 0 dimensions. [Op:ExpandDims]",
     "output_type": "error",
     "traceback": [
      "\u001b[0;31m---------------------------------------------------------------------------\u001b[0m",
      "\u001b[0;31mInvalidArgumentError\u001b[0m                      Traceback (most recent call last)",
      "Cell \u001b[0;32mIn[24], line 32\u001b[0m\n\u001b[1;32m     30\u001b[0m magnitude \u001b[39m=\u001b[39m Lambda(\u001b[39mlambda\u001b[39;00m x: K\u001b[39m.\u001b[39msqrt(K\u001b[39m.\u001b[39msquare(x[\u001b[39m0\u001b[39m])\u001b[39m+\u001b[39mK\u001b[39m.\u001b[39msquare(x[\u001b[39m1\u001b[39m])))([real_conv, imag_conv])\n\u001b[1;32m     31\u001b[0m epsilon \u001b[39m=\u001b[39m \u001b[39m1e-7\u001b[39m  \u001b[39m# or another small value\u001b[39;00m\n\u001b[0;32m---> 32\u001b[0m real_conv \u001b[39m=\u001b[39m Add()([real_conv, K\u001b[39m.\u001b[39;49mexpand_dims(K\u001b[39m.\u001b[39;49mconstant(epsilon), axis\u001b[39m=\u001b[39;49m\u001b[39m1\u001b[39;49m)])\n\u001b[1;32m     33\u001b[0m imag_conv \u001b[39m=\u001b[39m Add()([imag_conv, K\u001b[39m.\u001b[39mexpand_dims(K\u001b[39m.\u001b[39mconstant(epsilon), axis\u001b[39m=\u001b[39m\u001b[39m1\u001b[39m)])\n\u001b[1;32m     34\u001b[0m phase \u001b[39m=\u001b[39m Lambda(\u001b[39mlambda\u001b[39;00m x: K\u001b[39m.\u001b[39matan2(x[\u001b[39m1\u001b[39m], x[\u001b[39m0\u001b[39m]))([real_conv, imag_conv])\n",
      "File \u001b[0;32m~/Desktop/Rotating-Machine-Deep-Learning/.venv/lib/python3.11/site-packages/tensorflow/python/util/traceback_utils.py:153\u001b[0m, in \u001b[0;36mfilter_traceback.<locals>.error_handler\u001b[0;34m(*args, **kwargs)\u001b[0m\n\u001b[1;32m    151\u001b[0m \u001b[39mexcept\u001b[39;00m \u001b[39mException\u001b[39;00m \u001b[39mas\u001b[39;00m e:\n\u001b[1;32m    152\u001b[0m   filtered_tb \u001b[39m=\u001b[39m _process_traceback_frames(e\u001b[39m.\u001b[39m__traceback__)\n\u001b[0;32m--> 153\u001b[0m   \u001b[39mraise\u001b[39;00m e\u001b[39m.\u001b[39mwith_traceback(filtered_tb) \u001b[39mfrom\u001b[39;00m \u001b[39mNone\u001b[39;00m\n\u001b[1;32m    154\u001b[0m \u001b[39mfinally\u001b[39;00m:\n\u001b[1;32m    155\u001b[0m   \u001b[39mdel\u001b[39;00m filtered_tb\n",
      "File \u001b[0;32m~/Desktop/Rotating-Machine-Deep-Learning/.venv/lib/python3.11/site-packages/keras/backend.py:3972\u001b[0m, in \u001b[0;36mexpand_dims\u001b[0;34m(x, axis)\u001b[0m\n\u001b[1;32m   3959\u001b[0m \u001b[39m@keras_export\u001b[39m(\u001b[39m\"\u001b[39m\u001b[39mkeras.backend.expand_dims\u001b[39m\u001b[39m\"\u001b[39m)\n\u001b[1;32m   3960\u001b[0m \u001b[39m@tf\u001b[39m\u001b[39m.\u001b[39m__internal__\u001b[39m.\u001b[39mdispatch\u001b[39m.\u001b[39madd_dispatch_support\n\u001b[1;32m   3961\u001b[0m \u001b[39m@doc_controls\u001b[39m\u001b[39m.\u001b[39mdo_not_generate_docs\n\u001b[1;32m   3962\u001b[0m \u001b[39mdef\u001b[39;00m \u001b[39mexpand_dims\u001b[39m(x, axis\u001b[39m=\u001b[39m\u001b[39m-\u001b[39m\u001b[39m1\u001b[39m):\n\u001b[1;32m   3963\u001b[0m \u001b[39m    \u001b[39m\u001b[39m\"\"\"Adds a 1-sized dimension at index \"axis\".\u001b[39;00m\n\u001b[1;32m   3964\u001b[0m \n\u001b[1;32m   3965\u001b[0m \u001b[39m    Args:\u001b[39;00m\n\u001b[0;32m   (...)\u001b[0m\n\u001b[1;32m   3970\u001b[0m \u001b[39m        A tensor with expanded dimensions.\u001b[39;00m\n\u001b[1;32m   3971\u001b[0m \u001b[39m    \"\"\"\u001b[39;00m\n\u001b[0;32m-> 3972\u001b[0m     \u001b[39mreturn\u001b[39;00m tf\u001b[39m.\u001b[39;49mexpand_dims(x, axis)\n",
      "\u001b[0;31mInvalidArgumentError\u001b[0m: {{function_node __wrapped__ExpandDims_device_/job:localhost/replica:0/task:0/device:CPU:0}} Tried to expand dim index 1 for tensor with 0 dimensions. [Op:ExpandDims]"
     ]
    }
   ],
   "source": [
    "from tensorflow.keras.layers import Input, Conv1D, MaxPooling1D, Flatten, Dense, Dropout, concatenate, SeparableConv1D, Conv1D, multiply, Lambda, Activation, Add, Concatenate\n",
    "from tensorflow.keras.models import Model\n",
    "import tensorflow.keras.backend as K\n",
    "\n",
    "input_shape = (12, 129*25)\n",
    "num_classes = 5\n",
    "\n",
    "# Define input layer\n",
    "inputs = Input(shape=input_shape)\n",
    "\n",
    "# Dilated Convolution Block\n",
    "dilated_conv1 = Conv1D(filters=32, kernel_size=3, activation='relu', padding='same', dilation_rate=1)(inputs)\n",
    "dilated_conv2 = Conv1D(filters=32, kernel_size=3, activation='relu', padding='same', dilation_rate=2)(dilated_conv1)\n",
    "dilated_conv3 = Conv1D(filters=32, kernel_size=3, activation='relu', padding='same', dilation_rate=4)(dilated_conv2)\n",
    "\n",
    "# Separable Depthwise Convolution Block\n",
    "sep_conv1 = SeparableConv1D(filters=64, kernel_size=3, activation='relu', padding='same')(dilated_conv3)\n",
    "sep_conv2 = SeparableConv1D(filters=64, kernel_size=3, activation='relu', padding='same')(sep_conv1)\n",
    "sep_conv3 = SeparableConv1D(filters=64, kernel_size=3, activation='relu', padding='same')(sep_conv2)\n",
    "\n",
    "# Complex Convolution Block\n",
    "complex_conv1 = Conv1D(filters=128, kernel_size=5, activation='relu', padding='same')(sep_conv3)\n",
    "real_conv = Conv1D(filters=64, kernel_size=3, activation=None, padding='same')(complex_conv1)\n",
    "print(real_conv.shape)\n",
    "imag_conv = Conv1D(filters=64, kernel_size=3, activation=None, padding='same')(complex_conv1)\n",
    "print(imag_conv.shape)\n",
    "\n",
    "\n",
    "K.set_image_data_format('channels_last')\n",
    "magnitude = Lambda(lambda x: K.sqrt(K.square(x[0])+K.square(x[1])))([real_conv, imag_conv])\n",
    "epsilon = 1e-7  # or another small value\n",
    "real_conv = Add()([real_conv, K.constant(epsilon)])\n",
    "imag_conv = Add()([imag_conv, K.constant(epsilon)])\n",
    "phase = Lambda(lambda x: K.atan2(x[1], x[0]))([real_conv, imag_conv])\n",
    "cplx_conv = Concatenate()([magnitude, phase])\n",
    "cplx_conv = Activation('relu')(cplx_conv)\n",
    "\n",
    "# Residual connection from Separable Depthwise Convolution Block\n",
    "residual = Conv1D(filters=128, kernel_size=1, padding='same')(dilated_conv3)\n",
    "residual = concatenate([residual, residual], axis=-1)\n",
    "residual = multiply([residual, sep_conv3])\n",
    "\n",
    "# Concatenate Complex Convolution Block with Residual Connection\n",
    "concat = Concatenate()([cplx_conv, residual])\n",
    "\n",
    "# Flatten and concatenate scales\n",
    "flatten = Flatten()(concat)\n",
    "dense1 = Dense(128, activation='relu')(flatten)\n",
    "dropout1 = Dropout(0.7)(dense1)\n",
    "\n",
    "# Add final output layer\n",
    "outputs = Dense(num_classes, activation='softmax')(dropout1)\n",
    "\n",
    "# Create model\n",
    "model = Model(inputs=inputs, outputs=outputs)\n",
    "\n",
    "# Compile the model\n",
    "model.compile(optimizer='adam', loss='categorical_crossentropy', metrics=['accuracy'])\n",
    "history = model.fit(x_train, y_train1, validation_split=0.2, epochs=150, batch_size=256)\n",
    "\n"
   ]
  },
  {
   "cell_type": "code",
   "execution_count": null,
   "id": "2GhzbQeYRCtH",
   "metadata": {
    "colab": {
     "base_uri": "https://localhost:8080/"
    },
    "id": "2GhzbQeYRCtH",
    "outputId": "f1ad55f9-26d1-4c73-8ae4-1140ab6be71b"
   },
   "outputs": [],
   "source": [
    "import numpy as np\n",
    "from sklearn.metrics import confusion_matrix\n",
    "\n",
    "\n",
    "# Evaluate the model on the test set with multi-class labels\n",
    "test_loss_multi, test_acc_multi = model.evaluate(x_test, y_test1, verbose=2)\n",
    "print('Test accuracy multi:', test_acc_multi)\n",
    "\n",
    "# Convert y_test1 to a multi-class format\n",
    "y_pred_multi = model.predict(x_test)\n",
    "y_test_pred_multi = np.argmax(y_pred_multi, axis=1)\n",
    "\n",
    "# Compute the confusion matrix for multi-class\n",
    "print('Multi-class:', confusion_matrix(np.argmax(y_test1, axis=1), y_test_pred_multi))\n",
    "\n",
    "# Evaluate the model on the test set with normal labels\n",
    "test_loss_normal, test_acc_normal = model.evaluate(x_test, y_test1, verbose=2)\n",
    "print('Test accuracy normal:', test_acc_normal)\n",
    "\n",
    "# Convert y_test to a multi-class format\n",
    "y_pred_normal = model.predict(x_test)\n",
    "y_test_pred_normal = np.argmax(y_pred_normal, axis=1)\n",
    "\n",
    "# Compute the confusion matrix for normal labels\n",
    "print('Normal labels:', confusion_matrix(y_test, y_test_pred_normal))\n"
   ]
  }
 ],
 "metadata": {
  "colab": {
   "provenance": []
  },
  "kernelspec": {
   "display_name": "Python 3 (ipykernel)",
   "language": "python",
   "name": "python3"
  },
  "language_info": {
   "codemirror_mode": {
    "name": "ipython",
    "version": 3
   },
   "file_extension": ".py",
   "mimetype": "text/x-python",
   "name": "python",
   "nbconvert_exporter": "python",
   "pygments_lexer": "ipython3",
   "version": "3.11.0rc1"
  }
 },
 "nbformat": 4,
 "nbformat_minor": 5
}
