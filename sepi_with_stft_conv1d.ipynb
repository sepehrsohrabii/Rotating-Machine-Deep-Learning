{
 "cells": [
  {
   "cell_type": "code",
   "execution_count": 1,
   "id": "2a72220e-6be1-43bd-bc16-a8c0a8733d4a",
   "metadata": {
    "id": "2a72220e-6be1-43bd-bc16-a8c0a8733d4a"
   },
   "outputs": [],
   "source": [
    "import numpy as np\n",
    "import matplotlib.pyplot as plt\n",
    "import scipy.io \n",
    "import numpy as np\n",
    "import pandas as pd\n",
    "from scipy.signal import butter, lfilter\n",
    "from scipy.fft import fft\n",
    "import random\n",
    "from sklearn import svm\n",
    "from sklearn.svm import SVC\n",
    "from sklearn.metrics import confusion_matrix\n",
    "from sklearn.neighbors import KNeighborsClassifier\n",
    "from sklearn import tree\n",
    "from sklearn.tree import DecisionTreeClassifier\n",
    "from sklearn.ensemble import RandomForestClassifier\n",
    "\n"
   ]
  },
  {
   "cell_type": "code",
   "execution_count": 2,
   "id": "zPtG3_qt8YGd",
   "metadata": {
    "id": "zPtG3_qt8YGd"
   },
   "outputs": [],
   "source": [
    "faultI10=scipy.io.loadmat('/home/sepehr/Desktop/Rotating Machine - Data/ZData_Fault_Rotating_Machine/unbalanced fault/without alphabet/Unbalanced.mat/Acquisition_un_1_10hz.mat')\n",
    "faultI30=scipy.io.loadmat('/home/sepehr/Desktop/Rotating Machine - Data/ZData_Fault_Rotating_Machine/unbalanced fault/without alphabet/Unbalanced.mat/Acquisition_un_1_30hz.mat')\n",
    "faultII10=scipy.io.loadmat('/home/sepehr/Desktop/Rotating Machine - Data/ZData_Fault_Rotating_Machine/unbalanced fault/without alphabet/Unbalanced.mat/Acquisition_un_2_10hz.mat')\n",
    "faultII30=scipy.io.loadmat('/home/sepehr/Desktop/Rotating Machine - Data/ZData_Fault_Rotating_Machine/unbalanced fault/without alphabet/Unbalanced.mat/Acquisition_un_2_30hz.mat')\n",
    "faultIII10=scipy.io.loadmat('/home/sepehr/Desktop/Rotating Machine - Data/ZData_Fault_Rotating_Machine/unbalanced fault/without alphabet/Unbalanced.mat/Acquisition_un_3_10hz.mat')\n",
    "faultIII30=scipy.io.loadmat('/home/sepehr/Desktop/Rotating Machine - Data/ZData_Fault_Rotating_Machine/unbalanced fault/without alphabet/Unbalanced.mat/Acquisition_un_3_30hz.mat')\n",
    "faultIV10=scipy.io.loadmat('/home/sepehr/Desktop/Rotating Machine - Data/ZData_Fault_Rotating_Machine/unbalanced fault/without alphabet/Unbalanced.mat/Acquisition_un_4_10hz.mat')\n",
    "faultIV30=scipy.io.loadmat('/home/sepehr/Desktop/Rotating Machine - Data/ZData_Fault_Rotating_Machine/unbalanced fault/without alphabet/Unbalanced.mat/Acquisition_un_4_30hz.mat')\n",
    "faultV10=scipy.io.loadmat('/home/sepehr/Desktop/Rotating Machine - Data/ZData_Fault_Rotating_Machine/unbalanced fault/without alphabet/Unbalanced.mat/Acquisition_un_5_10hz.mat')\n",
    "faultV30=scipy.io.loadmat('/home/sepehr/Desktop/Rotating Machine - Data/ZData_Fault_Rotating_Machine/unbalanced fault/without alphabet/Unbalanced.mat/Acquisition_un_5_30hz.mat')\n",
    "\n",
    "\n",
    "\n"
   ]
  },
  {
   "cell_type": "code",
   "execution_count": 3,
   "id": "0m2Uist6LyMj",
   "metadata": {
    "id": "0m2Uist6LyMj"
   },
   "outputs": [],
   "source": [
    "sigII30=faultII30['Acquisition_un_2_30hz']\n",
    "sigII10=faultII10['Acquisition_un_2_10hz']\n",
    "del faultII30,faultII10\n",
    "sigI30=faultI30['Acquisition_un_1_30hz']\n",
    "sigI10=faultI10['Acquisition_un_1_10hz']\n",
    "del faultI30,faultI10\n",
    "sigIII10=faultIII10['Acquisition_un_3_10hz']\n",
    "sigIII30=faultIII30['Acquisition_un_3_30hz']\n",
    "del faultIII10,faultIII30\n",
    "sigIV10=faultIV10['Acquisition_un_4_10hz']\n",
    "sigIV30=faultIV30['Acquisition_un_4_30hz']\n",
    "del faultIV10,faultIV30\n",
    "sigV10=faultV10['Acquisition_un_5_10hz']\n",
    "sigV30=faultV30['Acquisition_un_5_30hz']\n",
    "del faultV10,faultV30\n",
    "# sigVI10=faultVI10['Acquisition_un_6_10hz']\n",
    "# sigVI30=faultVI30['Acquisition_un_6_30hz']\n",
    "# del faultVI10,faultVI30"
   ]
  },
  {
   "cell_type": "code",
   "execution_count": 4,
   "id": "8BhBzYin7SFO",
   "metadata": {
    "id": "8BhBzYin7SFO"
   },
   "outputs": [],
   "source": [
    "\n",
    "def sliding_window(data, window_size, stride):\n",
    "    \"\"\"\n",
    "    Applies a sliding window to the given data with the specified window size\n",
    "    and stride length. Padding is added at the beginning and end of the data to\n",
    "    ensure all samples are included in windows.\n",
    "    \"\"\"\n",
    "    num_padding = window_size - stride\n",
    "    data_padded = np.pad(data, ((num_padding, num_padding), (0, 0)), 'constant')\n",
    "    window_data = []\n",
    "    for i in range(0, len(data_padded) - window_size + 1, stride):\n",
    "        window = data_padded[i:i+window_size, :]\n",
    "        window_data.append(window)\n",
    "    window_data = np.array(window_data)\n",
    "    # window_data = window_data[:training_size, :, :]\n",
    "    window_data = np.transpose(window_data, (0, 2, 1))\n",
    "    return window_data"
   ]
  },
  {
   "cell_type": "code",
   "execution_count": 5,
   "id": "cWxOnPFS7URd",
   "metadata": {
    "id": "cWxOnPFS7URd"
   },
   "outputs": [],
   "source": [
    "windowsize=1500\n",
    "stride=1400"
   ]
  },
  {
   "cell_type": "code",
   "execution_count": 6,
   "id": "zAVETMOk7XKF",
   "metadata": {
    "id": "zAVETMOk7XKF"
   },
   "outputs": [],
   "source": [
    "sigtI10hz=sliding_window(sigI10,windowsize,stride)[:,1:13,:]\n",
    "sigtI30hz=sliding_window(sigI30,windowsize,stride)[:,1:13,:]\n",
    "sigtII10hz=sliding_window(sigII10,windowsize,stride)[:,1:13,:]\n",
    "sigtII30hz=sliding_window(sigII30,windowsize,stride)[:,1:13,:]\n",
    "del sigI10,sigI30,sigII10,sigII30\n",
    "sigtIII30hz=sliding_window(sigIII30,windowsize,stride)[:,1:13,:]\n",
    "sigtIII10hz=sliding_window(sigIII10,windowsize,stride)[:,1:13,:]\n",
    "sigtIV30hz=sliding_window(sigIV30,windowsize,stride)[:,1:13,:]\n",
    "sigtIV10hz=sliding_window(sigIV10,windowsize,stride)[:,1:13,:]\n",
    "del sigIII30,sigIII10,sigIV30,sigIV10\n",
    "sigtV30hz=sliding_window(sigV30,windowsize,stride)[:,1:13,:]\n",
    "sigtV10hz=sliding_window(sigV10,windowsize,stride)[:,1:13,:]\n",
    "# sigtVI30hz=sliding_window(sigVI30,windowsize,stride)\n",
    "# sigtVI10hz=sliding_window(sigVI10,windowsize,stride)\n",
    "# del sigV30,sigV10,sigVI30,sigVI10"
   ]
  },
  {
   "cell_type": "code",
   "execution_count": 7,
   "id": "eztt9Ct5MMrb",
   "metadata": {
    "id": "eztt9Ct5MMrb"
   },
   "outputs": [],
   "source": [
    "datalable1=np.concatenate([sigtI10hz,sigtI30hz],axis=-1)\n",
    "\n",
    "datalable2=np.concatenate([sigtII10hz,sigtII30hz],axis=-1)\n",
    "\n",
    "datalable3=np.concatenate([sigtIII10hz,sigtIII30hz],axis=-1)\n",
    "\n",
    "datalable4=np.concatenate([sigtIV10hz,sigtIV30hz],axis=-1)\n",
    "\n",
    "datalabele5=np.concatenate([sigtV10hz,sigtV30hz],axis=-1)\n"
   ]
  },
  {
   "cell_type": "code",
   "execution_count": 8,
   "id": "XfUB8VSqMT97",
   "metadata": {
    "id": "XfUB8VSqMT97"
   },
   "outputs": [],
   "source": [
    "labels=np.concatenate((np.ones(np.shape(datalable1)[0]),np.zeros(np.shape(datalable1)[0]),np.ones(np.shape(datalable1)[0])*4,np.ones(np.shape(datalable1)[0])*2,np.ones(np.shape(datalable1)[0])*3),axis=0)\n",
    "\n",
    "dataall=np.concatenate([datalable1,datalable2,datalable3,datalable4,datalabele5],axis=0)"
   ]
  },
  {
   "cell_type": "code",
   "execution_count": 9,
   "id": "l0TCUypy5LqU",
   "metadata": {
    "colab": {
     "base_uri": "https://localhost:8080/"
    },
    "id": "l0TCUypy5LqU",
    "outputId": "df93d2dd-13e8-4fff-c8d9-d5ea4b40e9ee"
   },
   "outputs": [
    {
     "data": {
      "text/plain": [
       "(2150, 12, 3000)"
      ]
     },
     "execution_count": 9,
     "metadata": {},
     "output_type": "execute_result"
    }
   ],
   "source": [
    "np.shape(dataall)"
   ]
  },
  {
   "cell_type": "code",
   "execution_count": 10,
   "id": "JiqTSASTWFs2",
   "metadata": {
    "id": "JiqTSASTWFs2"
   },
   "outputs": [],
   "source": [
    "import numpy as np\n",
    "from scipy.signal import stft\n",
    "\n",
    "# generate example signal with shape (7530, 12, 1000)\n",
    "data = dataall\n",
    "\n",
    "# set STFT parameters\n",
    "window = 'hann'\n",
    "nperseg = 256\n",
    "noverlap = 128\n",
    "fs = 10000\n",
    "\n",
    "# compute STFT spectrogram for each channel\n",
    "spectrograms = []\n",
    "for i in range(data.shape[1]):\n",
    "    _, _, spec = stft(data[:, i, :], fs=fs, window=window, nperseg=nperseg, noverlap=noverlap)\n",
    "    spectrograms.append(np.abs(spec))\n",
    "\n",
    "# stack spectrograms along the channel axis to get shape (7530, 12, num_freq_bins, num_time_bins)\n",
    "spectrograms = np.stack(spectrograms, axis=1)\n",
    "\n",
    "\n",
    "\n"
   ]
  },
  {
   "cell_type": "code",
   "execution_count": 11,
   "id": "re1z7vnHYiNX",
   "metadata": {
    "colab": {
     "base_uri": "https://localhost:8080/"
    },
    "id": "re1z7vnHYiNX",
    "outputId": "0ecb1543-eefe-46d3-a5ae-cb8f39b30bcd"
   },
   "outputs": [
    {
     "data": {
      "text/plain": [
       "(2150, 12, 129, 25)"
      ]
     },
     "execution_count": 11,
     "metadata": {},
     "output_type": "execute_result"
    }
   ],
   "source": [
    "np.shape(spectrograms)"
   ]
  },
  {
   "cell_type": "code",
   "execution_count": 12,
   "id": "EViGZC2O8jzI",
   "metadata": {
    "id": "EViGZC2O8jzI"
   },
   "outputs": [],
   "source": [
    "mean = np.mean(spectrograms, axis=(0, 1, 2, 3))\n",
    "std = np.std(spectrograms, axis=(0, 1, 2, 3))\n",
    "normalized_data = (spectrograms - mean) / std\n",
    "data=normalized_data\n"
   ]
  },
  {
   "cell_type": "code",
   "execution_count": 13,
   "id": "YavNwJdd8yHf",
   "metadata": {
    "colab": {
     "base_uri": "https://localhost:8080/"
    },
    "id": "YavNwJdd8yHf",
    "outputId": "fe827e8c-8806-4dcd-81eb-867b1588655d"
   },
   "outputs": [
    {
     "data": {
      "text/plain": [
       "(2150, 12, 129, 25)"
      ]
     },
     "execution_count": 13,
     "metadata": {},
     "output_type": "execute_result"
    }
   ],
   "source": [
    "np.shape(data)"
   ]
  },
  {
   "cell_type": "code",
   "execution_count": 14,
   "id": "-0DLnNclARZA",
   "metadata": {
    "id": "-0DLnNclARZA"
   },
   "outputs": [],
   "source": [
    "indices = np.random.permutation(data.shape[0])\n",
    "\n",
    "# Use the shuffled indices to shuffle both data and labels\n",
    "shuffled_data = data[indices]\n",
    "shuffled_labels = labels[indices]\n",
    "data= shuffled_data\n",
    "labels=shuffled_labels\n"
   ]
  },
  {
   "cell_type": "code",
   "execution_count": 15,
   "id": "1xjKJqwXA2tY",
   "metadata": {
    "colab": {
     "base_uri": "https://localhost:8080/"
    },
    "id": "1xjKJqwXA2tY",
    "outputId": "d32fa1fb-a1d3-499a-dbe2-62896ec4dbde"
   },
   "outputs": [
    {
     "name": "stdout",
     "output_type": "stream",
     "text": [
      "x_train shape: (1720, 12, 129, 25)\n",
      "y_train shape: (1720,)\n",
      "x_test shape: (430, 12, 129, 25)\n",
      "y_test shape: (430,)\n"
     ]
    }
   ],
   "source": [
    "from sklearn.model_selection import train_test_split\n",
    "\n",
    "# Assume stft_data is your STFT results stored in a variable\n",
    "# with shape (7530, 12, 129, 9)\n",
    "\n",
    "# Generate labels for your data (assuming you have labels available)\n",
    "\n",
    "\n",
    "# Split the data and labels into training and test sets\n",
    "x_train, x_test, y_train, y_test = train_test_split(data, labels, test_size=0.2, random_state=42)\n",
    "\n",
    "\n",
    "print(f\"x_train shape: {x_train.shape}\")  # should be (6024, 12, 129, 9)\n",
    "print(f\"y_train shape: {y_train.shape}\")  # should be (6024,)\n",
    "print(f\"x_test shape: {x_test.shape}\")    # should be (1506, 12, 129, 9)\n",
    "print(f\"y_test shape: {y_test.shape}\")    # should be (1506,)\n"
   ]
  },
  {
   "cell_type": "code",
   "execution_count": 16,
   "id": "7165cd6a-6994-47bf-81f6-3cb776dd14bb",
   "metadata": {},
   "outputs": [
    {
     "name": "stderr",
     "output_type": "stream",
     "text": [
      "2023-05-03 20:49:38.388022: I tensorflow/tsl/cuda/cudart_stub.cc:28] Could not find cuda drivers on your machine, GPU will not be used.\n",
      "2023-05-03 20:49:38.548030: I tensorflow/tsl/cuda/cudart_stub.cc:28] Could not find cuda drivers on your machine, GPU will not be used.\n",
      "2023-05-03 20:49:38.549770: I tensorflow/core/platform/cpu_feature_guard.cc:182] This TensorFlow binary is optimized to use available CPU instructions in performance-critical operations.\n",
      "To enable the following instructions: AVX2 FMA, in other operations, rebuild TensorFlow with the appropriate compiler flags.\n",
      "2023-05-03 20:49:39.749721: W tensorflow/compiler/tf2tensorrt/utils/py_utils.cc:38] TF-TRT Warning: Could not find TensorRT\n"
     ]
    }
   ],
   "source": [
    "from keras.utils import to_categorical\n",
    "y_train1 = to_categorical(y_train)\n",
    "y_test1 = to_categorical(y_test, num_classes=5)\n",
    "# print(f\"x_test shape: {y_train1.shape}\")    # should be (1506, 12, 129, 9)\n",
    "# print(f\"y_test shape: {y_test.shape}\")"
   ]
  },
  {
   "cell_type": "code",
   "execution_count": 17,
   "id": "26d1b0ba",
   "metadata": {},
   "outputs": [],
   "source": [
    "x_train = x_train.reshape((1720,12,129*25))\n",
    "x_test = x_test.reshape((430,12,129*25))"
   ]
  },
  {
   "cell_type": "code",
   "execution_count": 18,
   "id": "07eece98-e4fd-455f-8f7c-75a611b3fbeb",
   "metadata": {},
   "outputs": [
    {
     "name": "stderr",
     "output_type": "stream",
     "text": [
      "2023-05-03 20:49:41.475146: I tensorflow/compiler/xla/stream_executor/cuda/cuda_gpu_executor.cc:996] successful NUMA node read from SysFS had negative value (-1), but there must be at least one NUMA node, so returning NUMA node zero. See more at https://github.com/torvalds/linux/blob/v6.0/Documentation/ABI/testing/sysfs-bus-pci#L344-L355\n",
      "2023-05-03 20:49:41.476313: W tensorflow/core/common_runtime/gpu/gpu_device.cc:1956] Cannot dlopen some GPU libraries. Please make sure the missing libraries mentioned above are installed properly if you would like to use GPU. Follow the guide at https://www.tensorflow.org/install/gpu for how to download and setup the required libraries for your platform.\n",
      "Skipping registering GPU devices...\n"
     ]
    },
    {
     "name": "stdout",
     "output_type": "stream",
     "text": [
      "Epoch 1/150\n"
     ]
    },
    {
     "name": "stderr",
     "output_type": "stream",
     "text": [
      "2023-05-03 20:49:41.892296: W tensorflow/tsl/framework/cpu_allocator_impl.cc:83] Allocation of 213004800 exceeds 10% of free system memory.\n"
     ]
    },
    {
     "name": "stdout",
     "output_type": "stream",
     "text": [
      "6/6 [==============================] - 3s 168ms/step - loss: 1.7779 - accuracy: 0.1890 - val_loss: 1.6104 - val_accuracy: 0.1831\n",
      "Epoch 2/150\n",
      "6/6 [==============================] - 1s 123ms/step - loss: 1.6162 - accuracy: 0.1999 - val_loss: 1.6135 - val_accuracy: 0.1715\n",
      "Epoch 3/150\n",
      "6/6 [==============================] - 1s 128ms/step - loss: 1.6130 - accuracy: 0.1962 - val_loss: 1.6088 - val_accuracy: 0.1715\n",
      "Epoch 4/150\n",
      "6/6 [==============================] - 1s 120ms/step - loss: 1.6024 - accuracy: 0.2267 - val_loss: 1.6047 - val_accuracy: 0.2442\n",
      "Epoch 5/150\n",
      "6/6 [==============================] - 1s 120ms/step - loss: 1.5973 - accuracy: 0.2420 - val_loss: 1.5977 - val_accuracy: 0.1715\n",
      "Epoch 6/150\n",
      "6/6 [==============================] - 1s 108ms/step - loss: 1.5890 - accuracy: 0.2565 - val_loss: 1.5823 - val_accuracy: 0.2297\n",
      "Epoch 7/150\n",
      "6/6 [==============================] - 1s 111ms/step - loss: 1.5720 - accuracy: 0.2711 - val_loss: 1.5666 - val_accuracy: 0.2413\n",
      "Epoch 8/150\n",
      "6/6 [==============================] - 1s 109ms/step - loss: 1.5503 - accuracy: 0.3045 - val_loss: 1.4901 - val_accuracy: 0.7006\n",
      "Epoch 9/150\n",
      "6/6 [==============================] - 1s 123ms/step - loss: 1.4945 - accuracy: 0.3626 - val_loss: 1.4269 - val_accuracy: 0.3140\n",
      "Epoch 10/150\n",
      "6/6 [==============================] - 1s 121ms/step - loss: 1.4279 - accuracy: 0.3808 - val_loss: 1.3236 - val_accuracy: 0.4622\n",
      "Epoch 11/150\n",
      "6/6 [==============================] - 1s 105ms/step - loss: 1.3236 - accuracy: 0.4375 - val_loss: 1.2260 - val_accuracy: 0.5959\n",
      "Epoch 12/150\n",
      "6/6 [==============================] - 1s 117ms/step - loss: 1.2290 - accuracy: 0.4571 - val_loss: 1.0777 - val_accuracy: 0.6860\n",
      "Epoch 13/150\n",
      "6/6 [==============================] - 1s 104ms/step - loss: 1.1594 - accuracy: 0.4920 - val_loss: 0.9531 - val_accuracy: 0.7064\n",
      "Epoch 14/150\n",
      "6/6 [==============================] - 1s 105ms/step - loss: 1.1275 - accuracy: 0.4753 - val_loss: 0.9231 - val_accuracy: 0.7936\n",
      "Epoch 15/150\n",
      "6/6 [==============================] - 1s 116ms/step - loss: 1.0426 - accuracy: 0.5182 - val_loss: 0.8730 - val_accuracy: 0.7035\n",
      "Epoch 16/150\n",
      "6/6 [==============================] - 1s 118ms/step - loss: 0.9905 - accuracy: 0.5487 - val_loss: 0.7814 - val_accuracy: 0.6919\n",
      "Epoch 17/150\n",
      "6/6 [==============================] - 1s 108ms/step - loss: 0.9524 - accuracy: 0.5538 - val_loss: 0.7174 - val_accuracy: 0.7936\n",
      "Epoch 18/150\n",
      "6/6 [==============================] - 1s 101ms/step - loss: 0.9152 - accuracy: 0.5610 - val_loss: 0.7580 - val_accuracy: 0.7442\n",
      "Epoch 19/150\n",
      "6/6 [==============================] - 1s 109ms/step - loss: 0.8852 - accuracy: 0.6112 - val_loss: 0.6660 - val_accuracy: 0.7791\n",
      "Epoch 20/150\n",
      "6/6 [==============================] - 1s 112ms/step - loss: 0.8323 - accuracy: 0.6374 - val_loss: 0.6113 - val_accuracy: 0.8517\n",
      "Epoch 21/150\n",
      "6/6 [==============================] - 1s 110ms/step - loss: 0.7588 - accuracy: 0.6606 - val_loss: 0.5764 - val_accuracy: 0.7849\n",
      "Epoch 22/150\n",
      "6/6 [==============================] - 1s 114ms/step - loss: 0.7678 - accuracy: 0.6548 - val_loss: 0.5424 - val_accuracy: 0.8110\n",
      "Epoch 23/150\n",
      "6/6 [==============================] - 1s 108ms/step - loss: 0.7316 - accuracy: 0.6679 - val_loss: 0.5416 - val_accuracy: 0.8314\n",
      "Epoch 24/150\n",
      "6/6 [==============================] - 1s 117ms/step - loss: 0.7068 - accuracy: 0.6795 - val_loss: 0.5177 - val_accuracy: 0.8110\n",
      "Epoch 25/150\n",
      "6/6 [==============================] - 1s 136ms/step - loss: 0.6629 - accuracy: 0.7173 - val_loss: 0.4725 - val_accuracy: 0.8401\n",
      "Epoch 26/150\n",
      "6/6 [==============================] - 1s 121ms/step - loss: 0.6590 - accuracy: 0.7115 - val_loss: 0.4510 - val_accuracy: 0.8808\n",
      "Epoch 27/150\n",
      "6/6 [==============================] - 0s 71ms/step - loss: 0.6016 - accuracy: 0.7347 - val_loss: 0.4315 - val_accuracy: 0.8837\n",
      "Epoch 28/150\n",
      "6/6 [==============================] - 0s 71ms/step - loss: 0.5769 - accuracy: 0.7594 - val_loss: 0.4169 - val_accuracy: 0.8227\n",
      "Epoch 29/150\n",
      "6/6 [==============================] - 0s 66ms/step - loss: 0.5746 - accuracy: 0.7507 - val_loss: 0.3906 - val_accuracy: 0.8895\n",
      "Epoch 30/150\n",
      "6/6 [==============================] - 0s 64ms/step - loss: 0.5299 - accuracy: 0.7740 - val_loss: 0.4205 - val_accuracy: 0.8430\n",
      "Epoch 31/150\n",
      "6/6 [==============================] - 0s 64ms/step - loss: 0.5237 - accuracy: 0.7696 - val_loss: 0.3759 - val_accuracy: 0.8314\n",
      "Epoch 32/150\n",
      "6/6 [==============================] - 0s 60ms/step - loss: 0.5308 - accuracy: 0.7754 - val_loss: 0.4320 - val_accuracy: 0.8023\n",
      "Epoch 33/150\n",
      "6/6 [==============================] - 0s 63ms/step - loss: 0.5225 - accuracy: 0.7747 - val_loss: 0.3748 - val_accuracy: 0.8576\n",
      "Epoch 34/150\n",
      "6/6 [==============================] - 0s 66ms/step - loss: 0.4909 - accuracy: 0.7958 - val_loss: 0.4497 - val_accuracy: 0.7994\n",
      "Epoch 35/150\n",
      "6/6 [==============================] - 0s 64ms/step - loss: 0.5073 - accuracy: 0.7791 - val_loss: 0.3265 - val_accuracy: 0.8634\n",
      "Epoch 36/150\n",
      "6/6 [==============================] - 0s 59ms/step - loss: 0.4354 - accuracy: 0.8321 - val_loss: 0.3653 - val_accuracy: 0.8895\n",
      "Epoch 37/150\n",
      "6/6 [==============================] - 0s 61ms/step - loss: 0.4183 - accuracy: 0.8299 - val_loss: 0.2846 - val_accuracy: 0.9070\n",
      "Epoch 38/150\n",
      "6/6 [==============================] - 0s 63ms/step - loss: 0.4119 - accuracy: 0.8256 - val_loss: 0.2409 - val_accuracy: 0.9390\n",
      "Epoch 39/150\n",
      "6/6 [==============================] - 0s 62ms/step - loss: 0.3655 - accuracy: 0.8670 - val_loss: 0.2588 - val_accuracy: 0.9012\n",
      "Epoch 40/150\n",
      "6/6 [==============================] - 0s 64ms/step - loss: 0.3813 - accuracy: 0.8474 - val_loss: 0.2965 - val_accuracy: 0.8808\n",
      "Epoch 41/150\n",
      "6/6 [==============================] - 0s 67ms/step - loss: 0.3375 - accuracy: 0.8743 - val_loss: 0.2682 - val_accuracy: 0.9186\n",
      "Epoch 42/150\n",
      "6/6 [==============================] - 0s 60ms/step - loss: 0.3261 - accuracy: 0.8706 - val_loss: 0.1738 - val_accuracy: 0.9477\n",
      "Epoch 43/150\n",
      "6/6 [==============================] - 0s 68ms/step - loss: 0.3009 - accuracy: 0.8750 - val_loss: 0.2036 - val_accuracy: 0.9215\n",
      "Epoch 44/150\n",
      "6/6 [==============================] - 0s 66ms/step - loss: 0.3116 - accuracy: 0.8757 - val_loss: 0.1998 - val_accuracy: 0.9390\n",
      "Epoch 45/150\n",
      "6/6 [==============================] - 0s 66ms/step - loss: 0.3176 - accuracy: 0.8808 - val_loss: 0.2487 - val_accuracy: 0.9070\n",
      "Epoch 46/150\n",
      "6/6 [==============================] - 0s 65ms/step - loss: 0.2670 - accuracy: 0.9099 - val_loss: 0.1456 - val_accuracy: 0.9564\n",
      "Epoch 47/150\n",
      "6/6 [==============================] - 0s 62ms/step - loss: 0.2710 - accuracy: 0.8975 - val_loss: 0.1247 - val_accuracy: 0.9622\n",
      "Epoch 48/150\n",
      "6/6 [==============================] - 0s 64ms/step - loss: 0.2347 - accuracy: 0.9106 - val_loss: 0.1807 - val_accuracy: 0.9244\n",
      "Epoch 49/150\n",
      "6/6 [==============================] - 0s 60ms/step - loss: 0.2197 - accuracy: 0.9302 - val_loss: 0.1596 - val_accuracy: 0.9302\n",
      "Epoch 50/150\n",
      "6/6 [==============================] - 0s 63ms/step - loss: 0.2308 - accuracy: 0.9128 - val_loss: 0.1341 - val_accuracy: 0.9564\n",
      "Epoch 51/150\n",
      "6/6 [==============================] - 0s 66ms/step - loss: 0.2301 - accuracy: 0.9186 - val_loss: 0.3049 - val_accuracy: 0.8372\n",
      "Epoch 52/150\n",
      "6/6 [==============================] - 0s 57ms/step - loss: 0.2642 - accuracy: 0.8924 - val_loss: 0.1921 - val_accuracy: 0.9215\n",
      "Epoch 53/150\n",
      "6/6 [==============================] - 0s 66ms/step - loss: 0.2300 - accuracy: 0.9135 - val_loss: 0.1355 - val_accuracy: 0.9535\n",
      "Epoch 54/150\n",
      "6/6 [==============================] - 0s 69ms/step - loss: 0.2538 - accuracy: 0.9048 - val_loss: 0.1627 - val_accuracy: 0.9390\n",
      "Epoch 55/150\n",
      "6/6 [==============================] - 0s 59ms/step - loss: 0.2503 - accuracy: 0.8983 - val_loss: 0.1788 - val_accuracy: 0.9186\n",
      "Epoch 56/150\n",
      "6/6 [==============================] - 0s 63ms/step - loss: 0.2470 - accuracy: 0.9099 - val_loss: 0.2256 - val_accuracy: 0.8895\n",
      "Epoch 57/150\n",
      "6/6 [==============================] - 0s 66ms/step - loss: 0.2101 - accuracy: 0.9208 - val_loss: 0.1574 - val_accuracy: 0.9390\n",
      "Epoch 58/150\n",
      "6/6 [==============================] - 0s 63ms/step - loss: 0.1663 - accuracy: 0.9426 - val_loss: 0.3245 - val_accuracy: 0.8808\n",
      "Epoch 59/150\n",
      "6/6 [==============================] - 0s 66ms/step - loss: 0.2284 - accuracy: 0.9099 - val_loss: 0.5417 - val_accuracy: 0.7791\n",
      "Epoch 60/150\n",
      "6/6 [==============================] - 0s 63ms/step - loss: 0.3805 - accuracy: 0.8481 - val_loss: 0.7484 - val_accuracy: 0.7093\n",
      "Epoch 61/150\n",
      "6/6 [==============================] - 0s 60ms/step - loss: 0.8599 - accuracy: 0.7246 - val_loss: 1.1347 - val_accuracy: 0.6686\n",
      "Epoch 62/150\n",
      "6/6 [==============================] - 0s 65ms/step - loss: 0.8774 - accuracy: 0.6737 - val_loss: 0.4035 - val_accuracy: 0.8140\n",
      "Epoch 63/150\n",
      "6/6 [==============================] - 0s 62ms/step - loss: 0.5349 - accuracy: 0.7529 - val_loss: 0.4177 - val_accuracy: 0.7674\n",
      "Epoch 64/150\n",
      "6/6 [==============================] - 0s 65ms/step - loss: 0.4815 - accuracy: 0.8285 - val_loss: 0.3748 - val_accuracy: 0.8924\n",
      "Epoch 65/150\n",
      "6/6 [==============================] - 0s 66ms/step - loss: 0.3552 - accuracy: 0.8910 - val_loss: 0.1965 - val_accuracy: 0.9331\n",
      "Epoch 66/150\n",
      "6/6 [==============================] - 0s 65ms/step - loss: 0.2564 - accuracy: 0.9135 - val_loss: 0.1574 - val_accuracy: 0.9564\n",
      "Epoch 67/150\n",
      "6/6 [==============================] - 0s 65ms/step - loss: 0.2162 - accuracy: 0.9288 - val_loss: 0.1491 - val_accuracy: 0.9506\n",
      "Epoch 68/150\n",
      "6/6 [==============================] - 0s 63ms/step - loss: 0.1446 - accuracy: 0.9433 - val_loss: 0.0621 - val_accuracy: 0.9855\n",
      "Epoch 69/150\n",
      "6/6 [==============================] - 0s 61ms/step - loss: 0.1222 - accuracy: 0.9578 - val_loss: 0.0612 - val_accuracy: 0.9855\n",
      "Epoch 70/150\n",
      "6/6 [==============================] - 0s 63ms/step - loss: 0.1186 - accuracy: 0.9586 - val_loss: 0.0617 - val_accuracy: 0.9738\n",
      "Epoch 71/150\n",
      "6/6 [==============================] - 0s 60ms/step - loss: 0.0996 - accuracy: 0.9629 - val_loss: 0.0465 - val_accuracy: 0.9884\n",
      "Epoch 72/150\n",
      "6/6 [==============================] - 0s 61ms/step - loss: 0.1046 - accuracy: 0.9578 - val_loss: 0.0406 - val_accuracy: 0.9942\n",
      "Epoch 73/150\n",
      "6/6 [==============================] - 0s 62ms/step - loss: 0.0954 - accuracy: 0.9651 - val_loss: 0.0703 - val_accuracy: 0.9593\n",
      "Epoch 74/150\n",
      "6/6 [==============================] - 0s 66ms/step - loss: 0.0881 - accuracy: 0.9680 - val_loss: 0.0402 - val_accuracy: 0.9855\n",
      "Epoch 75/150\n",
      "6/6 [==============================] - 0s 73ms/step - loss: 0.0760 - accuracy: 0.9731 - val_loss: 0.0521 - val_accuracy: 0.9855\n",
      "Epoch 76/150\n",
      "6/6 [==============================] - 0s 63ms/step - loss: 0.0645 - accuracy: 0.9804 - val_loss: 0.0454 - val_accuracy: 0.9855\n",
      "Epoch 77/150\n",
      "6/6 [==============================] - 0s 61ms/step - loss: 0.0775 - accuracy: 0.9731 - val_loss: 0.0584 - val_accuracy: 0.9651\n",
      "Epoch 78/150\n",
      "6/6 [==============================] - 0s 62ms/step - loss: 0.0714 - accuracy: 0.9738 - val_loss: 0.0368 - val_accuracy: 0.9884\n",
      "Epoch 79/150\n",
      "6/6 [==============================] - 0s 61ms/step - loss: 0.0708 - accuracy: 0.9782 - val_loss: 0.0576 - val_accuracy: 0.9680\n",
      "Epoch 80/150\n",
      "6/6 [==============================] - 0s 66ms/step - loss: 0.0648 - accuracy: 0.9840 - val_loss: 0.0386 - val_accuracy: 0.9884\n",
      "Epoch 81/150\n",
      "6/6 [==============================] - 0s 67ms/step - loss: 0.0713 - accuracy: 0.9760 - val_loss: 0.0317 - val_accuracy: 0.9913\n",
      "Epoch 82/150\n",
      "6/6 [==============================] - 0s 65ms/step - loss: 0.0630 - accuracy: 0.9760 - val_loss: 0.0347 - val_accuracy: 0.9884\n",
      "Epoch 83/150\n",
      "6/6 [==============================] - 0s 66ms/step - loss: 0.0713 - accuracy: 0.9731 - val_loss: 0.0528 - val_accuracy: 0.9709\n",
      "Epoch 84/150\n",
      "6/6 [==============================] - 0s 66ms/step - loss: 0.0657 - accuracy: 0.9724 - val_loss: 0.0270 - val_accuracy: 0.9942\n",
      "Epoch 85/150\n",
      "6/6 [==============================] - 0s 73ms/step - loss: 0.0624 - accuracy: 0.9818 - val_loss: 0.0634 - val_accuracy: 0.9622\n",
      "Epoch 86/150\n",
      "6/6 [==============================] - 0s 62ms/step - loss: 0.0670 - accuracy: 0.9695 - val_loss: 0.0329 - val_accuracy: 0.9884\n",
      "Epoch 87/150\n",
      "6/6 [==============================] - 0s 63ms/step - loss: 0.0622 - accuracy: 0.9731 - val_loss: 0.0423 - val_accuracy: 0.9855\n",
      "Epoch 88/150\n",
      "6/6 [==============================] - 0s 65ms/step - loss: 0.0492 - accuracy: 0.9818 - val_loss: 0.0322 - val_accuracy: 0.9855\n",
      "Epoch 89/150\n",
      "6/6 [==============================] - 0s 64ms/step - loss: 0.0563 - accuracy: 0.9789 - val_loss: 0.0233 - val_accuracy: 0.9942\n",
      "Epoch 90/150\n",
      "6/6 [==============================] - 0s 63ms/step - loss: 0.0491 - accuracy: 0.9847 - val_loss: 0.0438 - val_accuracy: 0.9884\n",
      "Epoch 91/150\n",
      "6/6 [==============================] - 0s 68ms/step - loss: 0.0594 - accuracy: 0.9804 - val_loss: 0.0243 - val_accuracy: 0.9913\n",
      "Epoch 92/150\n",
      "6/6 [==============================] - 0s 61ms/step - loss: 0.0640 - accuracy: 0.9709 - val_loss: 0.0547 - val_accuracy: 0.9680\n",
      "Epoch 93/150\n",
      "6/6 [==============================] - 0s 62ms/step - loss: 0.0560 - accuracy: 0.9797 - val_loss: 0.0276 - val_accuracy: 0.9913\n",
      "Epoch 94/150\n",
      "6/6 [==============================] - 0s 65ms/step - loss: 0.0659 - accuracy: 0.9753 - val_loss: 0.0269 - val_accuracy: 0.9884\n",
      "Epoch 95/150\n",
      "6/6 [==============================] - 0s 65ms/step - loss: 0.0686 - accuracy: 0.9709 - val_loss: 0.0384 - val_accuracy: 0.9884\n",
      "Epoch 96/150\n",
      "6/6 [==============================] - 0s 62ms/step - loss: 0.0630 - accuracy: 0.9782 - val_loss: 0.1285 - val_accuracy: 0.9535\n",
      "Epoch 97/150\n",
      "6/6 [==============================] - 0s 64ms/step - loss: 0.0609 - accuracy: 0.9797 - val_loss: 0.0312 - val_accuracy: 0.9855\n",
      "Epoch 98/150\n",
      "6/6 [==============================] - 0s 59ms/step - loss: 0.0513 - accuracy: 0.9855 - val_loss: 0.0615 - val_accuracy: 0.9651\n",
      "Epoch 99/150\n",
      "6/6 [==============================] - 0s 63ms/step - loss: 0.0496 - accuracy: 0.9789 - val_loss: 0.0369 - val_accuracy: 0.9855\n",
      "Epoch 100/150\n",
      "6/6 [==============================] - 0s 59ms/step - loss: 0.0435 - accuracy: 0.9840 - val_loss: 0.0324 - val_accuracy: 0.9855\n",
      "Epoch 101/150\n",
      "6/6 [==============================] - 0s 64ms/step - loss: 0.0460 - accuracy: 0.9840 - val_loss: 0.0218 - val_accuracy: 0.9942\n",
      "Epoch 102/150\n",
      "6/6 [==============================] - 0s 62ms/step - loss: 0.0509 - accuracy: 0.9797 - val_loss: 0.0322 - val_accuracy: 0.9855\n",
      "Epoch 103/150\n",
      "6/6 [==============================] - 0s 64ms/step - loss: 0.0507 - accuracy: 0.9855 - val_loss: 0.0375 - val_accuracy: 0.9826\n",
      "Epoch 104/150\n",
      "6/6 [==============================] - 0s 61ms/step - loss: 0.0466 - accuracy: 0.9826 - val_loss: 0.0178 - val_accuracy: 0.9942\n",
      "Epoch 105/150\n",
      "6/6 [==============================] - 0s 65ms/step - loss: 0.0411 - accuracy: 0.9869 - val_loss: 0.0181 - val_accuracy: 0.9942\n",
      "Epoch 106/150\n",
      "6/6 [==============================] - 0s 71ms/step - loss: 0.0512 - accuracy: 0.9818 - val_loss: 0.0309 - val_accuracy: 0.9884\n",
      "Epoch 107/150\n",
      "6/6 [==============================] - 0s 62ms/step - loss: 0.0451 - accuracy: 0.9833 - val_loss: 0.0236 - val_accuracy: 0.9913\n",
      "Epoch 108/150\n",
      "6/6 [==============================] - 0s 66ms/step - loss: 0.0356 - accuracy: 0.9876 - val_loss: 0.0410 - val_accuracy: 0.9826\n",
      "Epoch 109/150\n",
      "6/6 [==============================] - 0s 66ms/step - loss: 0.0434 - accuracy: 0.9797 - val_loss: 0.0315 - val_accuracy: 0.9884\n",
      "Epoch 110/150\n",
      "6/6 [==============================] - 0s 65ms/step - loss: 0.0512 - accuracy: 0.9760 - val_loss: 0.0197 - val_accuracy: 0.9942\n",
      "Epoch 111/150\n",
      "6/6 [==============================] - 0s 60ms/step - loss: 0.0491 - accuracy: 0.9775 - val_loss: 0.0251 - val_accuracy: 0.9942\n",
      "Epoch 112/150\n",
      "6/6 [==============================] - 0s 64ms/step - loss: 0.0366 - accuracy: 0.9869 - val_loss: 0.0284 - val_accuracy: 0.9913\n",
      "Epoch 113/150\n",
      "6/6 [==============================] - 0s 62ms/step - loss: 0.0403 - accuracy: 0.9840 - val_loss: 0.0271 - val_accuracy: 0.9913\n",
      "Epoch 114/150\n",
      "6/6 [==============================] - 0s 61ms/step - loss: 0.0414 - accuracy: 0.9833 - val_loss: 0.0256 - val_accuracy: 0.9913\n",
      "Epoch 115/150\n",
      "6/6 [==============================] - 0s 61ms/step - loss: 0.0381 - accuracy: 0.9847 - val_loss: 0.0175 - val_accuracy: 0.9942\n",
      "Epoch 116/150\n",
      "6/6 [==============================] - 0s 61ms/step - loss: 0.0369 - accuracy: 0.9855 - val_loss: 0.0273 - val_accuracy: 0.9884\n",
      "Epoch 117/150\n",
      "6/6 [==============================] - 0s 64ms/step - loss: 0.0442 - accuracy: 0.9833 - val_loss: 0.0243 - val_accuracy: 0.9913\n",
      "Epoch 118/150\n",
      "6/6 [==============================] - 0s 67ms/step - loss: 0.0404 - accuracy: 0.9847 - val_loss: 0.0240 - val_accuracy: 0.9913\n",
      "Epoch 119/150\n",
      "6/6 [==============================] - 0s 65ms/step - loss: 0.0448 - accuracy: 0.9811 - val_loss: 0.0216 - val_accuracy: 0.9913\n",
      "Epoch 120/150\n",
      "6/6 [==============================] - 0s 61ms/step - loss: 0.0376 - accuracy: 0.9833 - val_loss: 0.0892 - val_accuracy: 0.9622\n",
      "Epoch 121/150\n",
      "6/6 [==============================] - 0s 60ms/step - loss: 0.0406 - accuracy: 0.9804 - val_loss: 0.0640 - val_accuracy: 0.9797\n",
      "Epoch 122/150\n",
      "6/6 [==============================] - 0s 65ms/step - loss: 0.0435 - accuracy: 0.9826 - val_loss: 0.0198 - val_accuracy: 0.9942\n",
      "Epoch 123/150\n",
      "6/6 [==============================] - 0s 62ms/step - loss: 0.0432 - accuracy: 0.9797 - val_loss: 0.3874 - val_accuracy: 0.9070\n",
      "Epoch 124/150\n",
      "6/6 [==============================] - 0s 62ms/step - loss: 0.1381 - accuracy: 0.9484 - val_loss: 1.2025 - val_accuracy: 0.7994\n",
      "Epoch 125/150\n",
      "6/6 [==============================] - 0s 69ms/step - loss: 0.8083 - accuracy: 0.7609 - val_loss: 0.3361 - val_accuracy: 0.8866\n",
      "Epoch 126/150\n",
      "6/6 [==============================] - 0s 64ms/step - loss: 0.2056 - accuracy: 0.9281 - val_loss: 0.2075 - val_accuracy: 0.9302\n",
      "Epoch 127/150\n",
      "6/6 [==============================] - 0s 67ms/step - loss: 0.1781 - accuracy: 0.9404 - val_loss: 0.1963 - val_accuracy: 0.9128\n",
      "Epoch 128/150\n",
      "6/6 [==============================] - 0s 64ms/step - loss: 0.1718 - accuracy: 0.9368 - val_loss: 0.1094 - val_accuracy: 0.9535\n",
      "Epoch 129/150\n",
      "6/6 [==============================] - 0s 61ms/step - loss: 0.1062 - accuracy: 0.9666 - val_loss: 0.1200 - val_accuracy: 0.9535\n",
      "Epoch 130/150\n",
      "6/6 [==============================] - 0s 64ms/step - loss: 0.0909 - accuracy: 0.9680 - val_loss: 0.1249 - val_accuracy: 0.9535\n",
      "Epoch 131/150\n",
      "6/6 [==============================] - 0s 64ms/step - loss: 0.0681 - accuracy: 0.9782 - val_loss: 0.0935 - val_accuracy: 0.9680\n",
      "Epoch 132/150\n",
      "6/6 [==============================] - 0s 65ms/step - loss: 0.0656 - accuracy: 0.9760 - val_loss: 0.1073 - val_accuracy: 0.9622\n",
      "Epoch 133/150\n",
      "6/6 [==============================] - 0s 61ms/step - loss: 0.0633 - accuracy: 0.9782 - val_loss: 0.0797 - val_accuracy: 0.9797\n",
      "Epoch 134/150\n",
      "6/6 [==============================] - 0s 60ms/step - loss: 0.0519 - accuracy: 0.9826 - val_loss: 0.0651 - val_accuracy: 0.9826\n",
      "Epoch 135/150\n",
      "6/6 [==============================] - 0s 62ms/step - loss: 0.0459 - accuracy: 0.9847 - val_loss: 0.0785 - val_accuracy: 0.9709\n",
      "Epoch 136/150\n",
      "6/6 [==============================] - 0s 64ms/step - loss: 0.0432 - accuracy: 0.9789 - val_loss: 0.0479 - val_accuracy: 0.9855\n",
      "Epoch 137/150\n",
      "6/6 [==============================] - 0s 58ms/step - loss: 0.0421 - accuracy: 0.9847 - val_loss: 0.0362 - val_accuracy: 0.9942\n",
      "Epoch 138/150\n",
      "6/6 [==============================] - 0s 62ms/step - loss: 0.0285 - accuracy: 0.9927 - val_loss: 0.0611 - val_accuracy: 0.9767\n",
      "Epoch 139/150\n",
      "6/6 [==============================] - 0s 61ms/step - loss: 0.0298 - accuracy: 0.9898 - val_loss: 0.0311 - val_accuracy: 0.9913\n",
      "Epoch 140/150\n",
      "6/6 [==============================] - 0s 68ms/step - loss: 0.0401 - accuracy: 0.9840 - val_loss: 0.0387 - val_accuracy: 0.9913\n",
      "Epoch 141/150\n",
      "6/6 [==============================] - 0s 63ms/step - loss: 0.0304 - accuracy: 0.9898 - val_loss: 0.0324 - val_accuracy: 0.9942\n",
      "Epoch 142/150\n",
      "6/6 [==============================] - 0s 59ms/step - loss: 0.0350 - accuracy: 0.9833 - val_loss: 0.0344 - val_accuracy: 0.9942\n",
      "Epoch 143/150\n",
      "6/6 [==============================] - 0s 59ms/step - loss: 0.0370 - accuracy: 0.9840 - val_loss: 0.0288 - val_accuracy: 0.9913\n",
      "Epoch 144/150\n",
      "6/6 [==============================] - 0s 65ms/step - loss: 0.0248 - accuracy: 0.9891 - val_loss: 0.0371 - val_accuracy: 0.9884\n",
      "Epoch 145/150\n",
      "6/6 [==============================] - 0s 66ms/step - loss: 0.0323 - accuracy: 0.9869 - val_loss: 0.0323 - val_accuracy: 0.9884\n",
      "Epoch 146/150\n",
      "6/6 [==============================] - 0s 61ms/step - loss: 0.0259 - accuracy: 0.9906 - val_loss: 0.0771 - val_accuracy: 0.9709\n",
      "Epoch 147/150\n",
      "6/6 [==============================] - 0s 66ms/step - loss: 0.0296 - accuracy: 0.9876 - val_loss: 0.0264 - val_accuracy: 0.9942\n",
      "Epoch 148/150\n",
      "6/6 [==============================] - 0s 54ms/step - loss: 0.0283 - accuracy: 0.9869 - val_loss: 0.0264 - val_accuracy: 0.9913\n",
      "Epoch 149/150\n",
      "6/6 [==============================] - 0s 56ms/step - loss: 0.0306 - accuracy: 0.9869 - val_loss: 0.0295 - val_accuracy: 0.9913\n",
      "Epoch 150/150\n",
      "6/6 [==============================] - 0s 61ms/step - loss: 0.0294 - accuracy: 0.9876 - val_loss: 0.0456 - val_accuracy: 0.9884\n"
     ]
    }
   ],
   "source": [
    "from tensorflow.keras.layers import Input, Conv1D, MaxPooling1D, Flatten, Dense, Dropout, concatenate\n",
    "from tensorflow.keras.models import Model\n",
    "\n",
    "input_shape = (12, 129*25)\n",
    "num_classes = 5\n",
    "\n",
    "# Define input layer\n",
    "inputs = Input(shape=input_shape)\n",
    "\n",
    "# First scale\n",
    "conv1 = Conv1D(filters=32, kernel_size=3, activation='relu', padding='same')(inputs)\n",
    "pool1 = MaxPooling1D(pool_size=2)(conv1)\n",
    "\n",
    "# Second scale\n",
    "conv2 = Conv1D(filters=64, kernel_size=3, activation='relu', padding='same')(pool1)\n",
    "pool2 = MaxPooling1D(pool_size=2)(conv2)\n",
    "\n",
    "# Third scale\n",
    "conv3 = Conv1D(filters=128, kernel_size=3, activation='relu', padding='same')(pool2)\n",
    "pool3 = MaxPooling1D(pool_size=2)(conv3)\n",
    "\n",
    "# Four scale\n",
    "# conv4 = Conv1D(filters=256, kernel_size=1, activation='relu', padding='same')(pool3)\n",
    "# pool4 = MaxPooling1D(pool_size=1)(conv4)\n",
    "\n",
    "# Flatten and concatenate scales\n",
    "flatten = Flatten()(conv3)\n",
    "dense1 = Dense(128, activation='relu')(flatten)\n",
    "dropout1 = Dropout(0.7)(dense1)\n",
    "\n",
    "# Add final output layer\n",
    "outputs = Dense(num_classes, activation='softmax')(dropout1)\n",
    "\n",
    "# Create model\n",
    "model = Model(inputs=inputs, outputs=outputs)\n",
    "\n",
    "# Compile the model\n",
    "model.compile(optimizer='adam', loss='categorical_crossentropy', metrics=['accuracy'])\n",
    "history = model.fit(x_train, y_train1, validation_split=0.2, epochs=150, batch_size=256)\n"
   ]
  },
  {
   "cell_type": "code",
   "execution_count": 19,
   "id": "2GhzbQeYRCtH",
   "metadata": {
    "colab": {
     "base_uri": "https://localhost:8080/"
    },
    "id": "2GhzbQeYRCtH",
    "outputId": "f1ad55f9-26d1-4c73-8ae4-1140ab6be71b"
   },
   "outputs": [
    {
     "name": "stdout",
     "output_type": "stream",
     "text": [
      "14/14 - 0s - loss: 0.0661 - accuracy: 0.9860 - 59ms/epoch - 4ms/step\n",
      "Test accuracy multi: 0.9860464930534363\n",
      "14/14 [==============================] - 0s 3ms/step\n",
      "Multi-class: [[100   0   0   0   0]\n",
      " [  2  81   0   0   0]\n",
      " [  0   0  84   0   0]\n",
      " [  0   0   4  76   0]\n",
      " [  0   0   0   0  83]]\n",
      "14/14 - 0s - loss: 0.0661 - accuracy: 0.9860 - 52ms/epoch - 4ms/step\n",
      "Test accuracy normal: 0.9860464930534363\n",
      "14/14 [==============================] - 0s 3ms/step\n",
      "Normal labels: [[100   0   0   0   0]\n",
      " [  2  81   0   0   0]\n",
      " [  0   0  84   0   0]\n",
      " [  0   0   4  76   0]\n",
      " [  0   0   0   0  83]]\n"
     ]
    }
   ],
   "source": [
    "import numpy as np\n",
    "from sklearn.metrics import confusion_matrix\n",
    "\n",
    "\n",
    "# Evaluate the model on the test set with multi-class labels\n",
    "test_loss_multi, test_acc_multi = model.evaluate(x_test, y_test1, verbose=2)\n",
    "print('Test accuracy multi:', test_acc_multi)\n",
    "\n",
    "# Convert y_test1 to a multi-class format\n",
    "y_pred_multi = model.predict(x_test)\n",
    "y_test_pred_multi = np.argmax(y_pred_multi, axis=1)\n",
    "\n",
    "# Compute the confusion matrix for multi-class\n",
    "print('Multi-class:', confusion_matrix(np.argmax(y_test1, axis=1), y_test_pred_multi))\n",
    "\n",
    "# Evaluate the model on the test set with normal labels\n",
    "test_loss_normal, test_acc_normal = model.evaluate(x_test, y_test1, verbose=2)\n",
    "print('Test accuracy normal:', test_acc_normal)\n",
    "\n",
    "# Convert y_test to a multi-class format\n",
    "y_pred_normal = model.predict(x_test)\n",
    "y_test_pred_normal = np.argmax(y_pred_normal, axis=1)\n",
    "\n",
    "# Compute the confusion matrix for normal labels\n",
    "print('Normal labels:', confusion_matrix(y_test, y_test_pred_normal))\n"
   ]
  }
 ],
 "metadata": {
  "colab": {
   "provenance": []
  },
  "kernelspec": {
   "display_name": "Python 3 (ipykernel)",
   "language": "python",
   "name": "python3"
  },
  "language_info": {
   "codemirror_mode": {
    "name": "ipython",
    "version": 3
   },
   "file_extension": ".py",
   "mimetype": "text/x-python",
   "name": "python",
   "nbconvert_exporter": "python",
   "pygments_lexer": "ipython3",
   "version": "3.11.0rc1"
  }
 },
 "nbformat": 4,
 "nbformat_minor": 5
}
